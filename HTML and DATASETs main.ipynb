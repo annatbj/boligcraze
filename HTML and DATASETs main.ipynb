{
 "cells": [
  {
   "cell_type": "code",
   "execution_count": 44,
   "metadata": {},
   "outputs": [],
   "source": [
    "#In order to do this, we need to make it into a function!! - the whooole thing, wuhu\n",
    "def scrapeboliga(urlinput):\n",
    "        #we need to introduce BeautifulSoup, re and requests:\n",
    "    from bs4 import BeautifulSoup\n",
    "    import requests as rq\n",
    "    urlstring=rq.get(urlinput).text\n",
    "    urlsoup=BeautifulSoup(urlstring,\"html.parser\")\n",
    "\n",
    "    #We need to get the information string for:\n",
    "    #for each element, we need specific html->find_all with BS ->list ->append to a clear list\n",
    "#FIRST PRIS\n",
    "    prishtml=urlsoup.find_all(class_=\"primary-value d-flex justify-content-end\")\n",
    "    prisstring=str(prishtml)\n",
    "    \n",
    "    #define what string we are looking for in the chunk of html\n",
    "    import re\n",
    "    priskode=re.compile(\"(\\s\\d+?.\\d+\\.\\d+)\")\n",
    "    \n",
    "    #find the string:\n",
    "    priser=priskode.findall(prisstring)\n",
    "    \n",
    "    #delete the dots\n",
    "    udotspriser=str(priser)\n",
    "    udot=udotspriser.replace(\".\",\"\")\n",
    "    \n",
    "    #make it into a list of big numbers\n",
    "    tal=re.compile(\"\\d{7,8}\")\n",
    "    pricelist=tal.findall(udot)\n",
    "    finalpricelist=[]\n",
    "    for element in pricelist:\n",
    "        talelement=int(element)\n",
    "        finalpricelist.append(talelement)\n",
    "    \n",
    "    #we need to remove the first two (in order to end with 50)\n",
    "    while len(finalpricelist)>50:\n",
    "        finalpricelist.pop(0)\n",
    "    \n",
    "#THE SAME FOR METER:\n",
    "    #find html specific code...\n",
    "    html=urlsoup.find_all(\"app-house-details\")\n",
    "    meterstykke=[]\n",
    "    for element in html:\n",
    "        meterstykke.append(element.find_all(\"span\")[1])\n",
    "    \n",
    "    #define what we are looking for:\n",
    "    meter=re.compile(\"\\d+?\\s\")\n",
    "    meterstring=str(meterstykke)\n",
    "    themeterlist=meter.findall(meterstring)\n",
    "    finalmeterlist=[]\n",
    "    for element in themeterlist:\n",
    "        talelement=int(element)\n",
    "        finalmeterlist.append(talelement)\n",
    "    \n",
    "    #We need to remove the first two (in order to end with 50)\n",
    "    while len(finalmeterlist)>50:\n",
    "        finalmeterlist.pop(0)\n",
    "\n",
    "#EJERUDGIFT\n",
    "    #we can just look in all of the html provided for the specific expression:\n",
    "    ejerudgift=re.compile(\"(Ejerudgift: )(\\d+?.\\d+)\")\n",
    "    \n",
    "    #let's look:\n",
    "    urlsoupstring=str(urlsoup)\n",
    "    ejerudgiftlist=ejerudgift.findall(urlsoupstring)\n",
    "    ejerudgiftstring=str(ejerudgiftlist)\n",
    "    \n",
    "    #let's remove the dots:\n",
    "    udendots=ejerudgiftstring.replace(\".\",\"\")\n",
    "    \n",
    "    #let's get only the numbers:\n",
    "    onlynumber=re.compile(\"\\d{2,7}\")\n",
    "    ejerudgiftclean=onlynumber.findall(udendots)\n",
    "    \n",
    "    #and transform it to numbers:\n",
    "    finalejerudgiftlist=[]\n",
    "    for element in ejerudgiftclean:\n",
    "        talelement=int(element)\n",
    "        finalejerudgiftlist.append(talelement)\n",
    "    \n",
    "    \n",
    "#ADRESS\n",
    "    #find the address-htmlchunk:\n",
    "    addresshtml=urlsoup.find_all(class_=\"w-100 mt-1 listing-address font-weight-bold text-nowrap text-truncate\")    \n",
    "    addresshtmlstring=str(addresshtml)\n",
    "    \n",
    "    #narrow down inside the htmlchunk - only addresses\n",
    "    # we need to tell it that we will play around with it with BeautifulSoup\n",
    "    adsoup=BeautifulSoup(addresshtmlstring,\"html.parser\")\n",
    "    addresstext=adsoup.get_text()\n",
    "    #so far so good - but it needs to be a list of addresses:\n",
    "    addresslist=addresstext.split(\" , \")\n",
    "    #and it needs to be max 50, not 52\n",
    "    while len(addresslist)>50:\n",
    "        addresslist.pop(0)\n",
    "    \n",
    "    #Our output would be a dictionary of the three elements for each house assigned to adress\n",
    "    #this means that the three things are going to be put together in a dict and returned as\n",
    "    if len(addresslist)==len(finalpricelist)==len(finalejerudgiftlist)==len(finalmeterlist):\n",
    "        \n",
    "        #make it into a tuple\n",
    "        tup=zip(addresslist,finalpricelist,finalejerudgiftlist,finalmeterlist)\n",
    "        ofhouses=list(tup)\n",
    "        \n",
    "        #everytime it works it prints 'succes!'\n",
    "        print(\"Success!\")\n",
    "        return ofhouses\n",
    "    else:\n",
    "       ##     print(\"der er et ulige antal inputs:\")\n",
    "            print(\"adresser:\",len(addresslist),\"priser:\",len(finalpricelist),\"ejerudgifter:\",len(finalejerudgiftlist),\"størrelser:\",len(finalmeterlist))"
   ]
  },
  {
   "cell_type": "code",
   "execution_count": 45,
   "metadata": {},
   "outputs": [
    {
     "name": "stdout",
     "output_type": "stream",
     "text": [
      "adresser: 50 priser: 50 ejerudgifter: 0 størrelser: 50\n"
     ]
    }
   ],
   "source": [
    "a=scrapeboliga(\"https://www.boliga.dk/resultat?propertyType=3&page=1&sort=zipCode-a\")"
   ]
  },
  {
   "cell_type": "raw",
   "metadata": {},
   "source": [
    "#helping myself in times of confusion (not relevant now)\n",
    "adrlist=[]\n",
    "for id, info in a.items():\n",
    "    print(\"\\n This is\",id)\n",
    "    adrlist.append(id)\n",
    "    for key in info:\n",
    "        print(key + ':', info[key])\n",
    "        "
   ]
  },
  {
   "cell_type": "code",
   "execution_count": null,
   "metadata": {},
   "outputs": [],
   "source": []
  },
  {
   "cell_type": "code",
   "execution_count": 59,
   "metadata": {},
   "outputs": [
    {
     "data": {
      "text/plain": [
       "NoneType"
      ]
     },
     "execution_count": 59,
     "metadata": {},
     "output_type": "execute_result"
    }
   ],
   "source": [
    "type(all_a[2])"
   ]
  },
  {
   "cell_type": "code",
   "execution_count": 6,
   "metadata": {},
   "outputs": [],
   "source": [
    "#inspiration from justmarkham(github)\n",
    "import requests  \n",
    "r = requests.get('https://www.nytimes.com/interactive/2017/06/23/opinion/trumps-lies.html')\n",
    "\n",
    "from bs4 import BeautifulSoup  \n",
    "soup = BeautifulSoup(r.text, 'html.parser')  \n",
    "results = soup.find_all('span', attrs={'class':'short-desc'})\n",
    "\n",
    "records = []  \n",
    "for result in results:  \n",
    "    date = result.find('strong').text[0:-1] + ', 2017'\n",
    "    lie = result.contents[1][1:-2]\n",
    "    explanation = result.find('a').text[1:-1]\n",
    "    url = result.find('a')['href']\n",
    "    records.append((date, lie, explanation, url))\n",
    "\n",
    "import pandas as pd  \n",
    "df = pd.DataFrame(records, columns=['date', 'lie', 'explanation', 'url'])  \n",
    "df['date'] = pd.to_datetime(df['date'])  \n",
    "df.to_csv('trump_lies.csv', index=False, encoding='utf-8') "
   ]
  },
  {
   "cell_type": "code",
   "execution_count": 84,
   "metadata": {},
   "outputs": [
    {
     "data": {
      "text/plain": [
       "4"
      ]
     },
     "execution_count": 84,
     "metadata": {},
     "output_type": "execute_result"
    }
   ],
   "source": [
    "len(records[0])"
   ]
  },
  {
   "cell_type": "code",
   "execution_count": 85,
   "metadata": {},
   "outputs": [
    {
     "data": {
      "text/plain": [
       "4"
      ]
     },
     "execution_count": 85,
     "metadata": {},
     "output_type": "execute_result"
    }
   ],
   "source": [
    "len(all_a[0][0])"
   ]
  },
  {
   "cell_type": "code",
   "execution_count": 100,
   "metadata": {},
   "outputs": [],
   "source": [
    "#making a list of looong urls\n",
    "boligaurl=\"https://www.boliga.dk/resultat?propertyType=3&page=\"\n",
    "def lotsofurls(urlinput):\n",
    "    i=0\n",
    "    urls=[]\n",
    "    while i<128:\n",
    "        i+=1\n",
    "        urls.append(urlinput+str(i))\n",
    "    return urls\n",
    "    "
   ]
  },
  {
   "cell_type": "code",
   "execution_count": 101,
   "metadata": {},
   "outputs": [],
   "source": [
    "url=lotsofurls(boligaurl)"
   ]
  },
  {
   "cell_type": "raw",
   "metadata": {},
   "source": [
    "#run this piece of code if you need another long scraping\n",
    "all_a=[]\n",
    "for element in url:\n",
    "    a=scrapeboliga(element)\n",
    "    if type(a)==list:\n",
    "        all_a.append((a))"
   ]
  },
  {
   "cell_type": "code",
   "execution_count": 69,
   "metadata": {},
   "outputs": [],
   "source": [
    "#it does not work when DataFraming all_a - it tells me that there are more than 50 columns\n",
    "new_list=[]\n",
    "for element in all_a:\n",
    "    for piece in element:\n",
    "        new_list.append(piece)"
   ]
  },
  {
   "cell_type": "raw",
   "metadata": {},
   "source": [
    "#run this piece of string if you need to load the file down to boligapriser.csv\n",
    "import pandas as pd\n",
    "import requests as rq\n",
    "file=pd.DataFrame(new_list, columns=[\"adresse\",\"pris\",\"ejerudgift\",\"meter\"])\n",
    "file.to_csv(\"boligapriser.csv\",index=False, encoding=\"utf-8\")"
   ]
  },
  {
   "cell_type": "code",
   "execution_count": 11,
   "metadata": {},
   "outputs": [],
   "source": [
    "import pandas as pd\n",
    "file=pd.read_csv(\"boligapriser.csv\")"
   ]
  },
  {
   "cell_type": "code",
   "execution_count": 14,
   "metadata": {},
   "outputs": [
    {
     "data": {
      "text/plain": [
       "Index(['adresse', 'pris', 'ejerudgift', 'meter'], dtype='object')"
      ]
     },
     "execution_count": 14,
     "metadata": {},
     "output_type": "execute_result"
    }
   ],
   "source": [
    "file.keys()"
   ]
  },
  {
   "cell_type": "code",
   "execution_count": 39,
   "metadata": {},
   "outputs": [
    {
     "data": {
      "text/plain": [
       "<matplotlib.axes._subplots.AxesSubplot at 0x119583350>"
      ]
     },
     "execution_count": 39,
     "metadata": {},
     "output_type": "execute_result"
    },
    {
     "data": {
      "image/png": "[encoded data removed]",
      "text/plain": [
       "<Figure size 432x288 with 1 Axes>"
      ]
     },
     "metadata": {
      "needs_background": "light"
     },
     "output_type": "display_data"
    }
   ],
   "source": [
    "import matplotlib.pyplot as plt\n",
    "file.plot(kind=\"scatter\",x=\"meter\",y=\"pris\",color=\"brown\")\n",
    "#plt.scatter[file[file[\"meter\"][file[\"pris\"]],]]"
   ]
  },
  {
   "cell_type": "code",
   "execution_count": null,
   "metadata": {},
   "outputs": [],
   "source": []
  },
  {
   "cell_type": "code",
   "execution_count": null,
   "metadata": {},
   "outputs": [],
   "source": [
    "#mangler - at gøre priserne til også at gælde mindre beløb end 1 mio\n",
    "#det samme gælder for ejerudgifter"
   ]
  }
 ],
 "metadata": {
  "kernelspec": {
   "display_name": "Python 3",
   "language": "python",
   "name": "python3"
  },
  "language_info": {
   "codemirror_mode": {
    "name": "ipython",
    "version": 3
   },
   "file_extension": ".py",
   "mimetype": "text/x-python",
   "name": "python",
   "nbconvert_exporter": "python",
   "pygments_lexer": "ipython3",
   "version": "3.7.4"
  }
 },
 "nbformat": 4,
 "nbformat_minor": 2
}
