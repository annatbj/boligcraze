{
 "cells": [
  {
   "cell_type": "markdown",
   "metadata": {},
   "source": [
    "# Data formats and open data\n",
    "**Exercises for week 5B** in Digital Methods, University of Copenhagen"
   ]
  },
  {
   "cell_type": "markdown",
   "metadata": {},
   "source": [
    "## 1. HTML"
   ]
  },
  {
   "cell_type": "markdown",
   "metadata": {},
   "source": [
    "HTML is the markup language used by web pages. It's ubiquitous on the web; even when editing this notebook you are interacting with HTML (right click and hit \"View Page Source\" if you need proof). Here follows some exercises to get you comfortable with navigating HTML on web pages."
   ]
  },
  {
   "cell_type": "markdown",
   "metadata": {},
   "source": [
    "> **Ex. 1**: Right click inside the cell below and hit \"Inspect\". This should launch the \"Inspector\" tool in your browser, showing you where the element that renders the cell sits inside the DOM.\n",
    "1. How deeply is it nested? Are there any sibling elements? We counted seven parents and three siblings\n",
    "2. What happens when you update it? Change the text and see for yourself.\n",
    ">\n",
    "> *Hint: Most modern browsers (e.g. Firefox, Chrome, Brave) will let you hover elements in the DOM to show where they display on the web page.*"
   ]
  },
  {
   "cell_type": "markdown",
   "metadata": {},
   "source": [
    "*HTML is a beautiful soup of hypertext!*"
   ]
  },
  {
   "cell_type": "markdown",
   "metadata": {},
   "source": [
    "> **Ex. 2**: In the HTML code below:\n",
    "1. What is typically the use of the `<p>`, `<h1>` and `<h2>` tags? Look them up, what are they for?\n",
    "2. What are the attributes of the `div` element?\n",
    "3. Create a text file that ends with \".html\" and open it in a browser."
   ]
  },
  {
   "cell_type": "markdown",
   "metadata": {},
   "source": [
    "    <html>\n",
    "    <body>\n",
    "\n",
    "    <div width=200 height=100 id=\"main\">\n",
    "        <h1>This is the main title of the webpage</h1>\n",
    "        <h2>This is a sub-heading</h2>\n",
    "        <p>This is a paragraph of text.</p>\n",
    "    </div>\n",
    "\n",
    "    <h2>This is another sub-heading</h2>\n",
    "    <p>This is a paragraph of text with some words in bold.</p>\n",
    "    <img src=\"https://external-content.duckduckgo.com/iu/?u=https%3A%2F%2Fmedia.giphy.com%2Fmedia%2FkFgzrTt798d2w%2Fgiphy.gif&f=1&nofb=1\" width=\"493\" height=\"340\">\n",
    "    <p>And that just above is an image.</p>\n",
    "\n",
    "    </body>\n",
    "    </html>\n"
   ]
  },
  {
   "cell_type": "markdown",
   "metadata": {},
   "source": [
    "> **Ex. 3**: Using the `requests` module, download [this web page](https://www.boliga.dk/resultat?propertyType=3&zipCodes=2200&page=1). Print the first 100 lines of the html string. How many lines are there in total?\n",
    ">\n",
    "> *Hint: use the `requests.get` method. To figure out how it works, execute `?requests.get` (after importing `requests`), this displays the module documentation.*"
   ]
  },
  {
   "cell_type": "code",
   "execution_count": 10,
   "metadata": {},
   "outputs": [],
   "source": [
    "from bs4 import BeautifulSoup\n",
    "import requests as rq\n",
    "url=\"https://www.boliga.dk/resultat?propertyType=3&zipCodes=2200&page=1\"\n",
    "r=rq.get(url).text"
   ]
  },
  {
   "cell_type": "code",
   "execution_count": 11,
   "metadata": {},
   "outputs": [
    {
     "data": {
      "text/plain": [
       "672858"
      ]
     },
     "execution_count": 11,
     "metadata": {},
     "output_type": "execute_result"
    }
   ],
   "source": [
    "len(r)"
   ]
  },
  {
   "cell_type": "code",
   "execution_count": 12,
   "metadata": {},
   "outputs": [],
   "source": [
    "splitted=r.split('\\n')"
   ]
  },
  {
   "cell_type": "code",
   "execution_count": 13,
   "metadata": {},
   "outputs": [
    {
     "data": {
      "text/plain": [
       "2368"
      ]
     },
     "execution_count": 13,
     "metadata": {},
     "output_type": "execute_result"
    }
   ],
   "source": [
    "len(splitted) #is the number of lines!"
   ]
  },
  {
   "cell_type": "code",
   "execution_count": 14,
   "metadata": {},
   "outputs": [
    {
     "data": {
      "text/plain": [
       "\"  <script>(function(w,d,s,l,i){w[l]=w[l]||[];w[l].push({'gtm.start':\""
      ]
     },
     "execution_count": 14,
     "metadata": {},
     "output_type": "execute_result"
    }
   ],
   "source": [
    "splitted[2]"
   ]
  },
  {
   "cell_type": "code",
   "execution_count": 15,
   "metadata": {},
   "outputs": [],
   "source": [
    "er_det_hundrede=splitted[0:100]"
   ]
  },
  {
   "cell_type": "code",
   "execution_count": 16,
   "metadata": {},
   "outputs": [
    {
     "data": {
      "text/plain": [
       "100"
      ]
     },
     "execution_count": 16,
     "metadata": {},
     "output_type": "execute_result"
    }
   ],
   "source": [
    "len(er_det_hundrede)"
   ]
  },
  {
   "cell_type": "code",
   "execution_count": 17,
   "metadata": {},
   "outputs": [],
   "source": [
    "#if you want to solve the assignment, write\n",
    "#print(er_det_hundrede)"
   ]
  },
  {
   "cell_type": "markdown",
   "metadata": {},
   "source": [
    "## 1.2 Scraping"
   ]
  },
  {
   "cell_type": "markdown",
   "metadata": {},
   "source": [
    "*Scraping* means to parse HTML and collect the important pieces of information inside. *Crawling* is\n",
    "another important contect, and the word refers to automatically sifting through pages of the web and scraping\n",
    "information on each page. 90% of scraping and crawling work can be done using the two modules `requests` and\n",
    "`BeautifulSoup`."
   ]
  },
  {
   "cell_type": "markdown",
   "metadata": {},
   "source": [
    "> **Ex. 4:** Load the toy example HTML with BeautifulSoup. Use the [documentation page](https://www.crummy.com/software/BeautifulSoup/bs4/doc/) for reference on how to do this.\n",
    "1. Access the `h1` element inside the `div` and print out its content (which is \"This is the main title of the webpage\").\n",
    "2. Get the value of the `src` attribute inside the `img` element.\n",
    "3. Get the second subheading that contains \"This is another sub-heading\" and print out that content.\n",
    "4. Get the `div` element by searching for its id."
   ]
  },
  {
   "cell_type": "code",
   "execution_count": 18,
   "metadata": {},
   "outputs": [],
   "source": [
    "import requests as rq\n",
    "url1=\"\"\"    <html>\n",
    "    <body>\n",
    "\n",
    "    <div width=200 height=100 id=\"main\">\n",
    "        <h1>This is the main title of the webpage</h1>\n",
    "        <h2>This is a sub-heading</h2>\n",
    "        <p>This is a paragraph of text.</p>\n",
    "    </div>\n",
    "\n",
    "    <h2>This is another sub-heading</h2>\n",
    "    <p>This is a paragraph of text with some words in bold.</p>\n",
    "    <img src=\"https://external-content.duckduckgo.com/iu/?u=https%3A%2F%2Fmedia.giphy.com%2Fmedia%2FkFgzrTt798d2w%2Fgiphy.gif&f=1&nofb=1\" width=\"493\" height=\"340\">\n",
    "    <p>And that just above is an image.</p>\n",
    "\n",
    "    </body>\n",
    "    </html>\n",
    "\n",
    "</html>\"\"\"\n",
    "soup=BeautifulSoup(url1,\"html.parser\")"
   ]
  },
  {
   "cell_type": "code",
   "execution_count": 19,
   "metadata": {},
   "outputs": [
    {
     "name": "stdout",
     "output_type": "stream",
     "text": [
      "<html>\n",
      " <body>\n",
      "  <div height=\"100\" id=\"main\" width=\"200\">\n",
      "   <h1>\n",
      "    This is the main title of the webpage\n",
      "   </h1>\n",
      "   <h2>\n",
      "    This is a sub-heading\n",
      "   </h2>\n",
      "   <p>\n",
      "    This is a paragraph of text.\n",
      "   </p>\n",
      "  </div>\n",
      "  <h2>\n",
      "   This is another sub-heading\n",
      "  </h2>\n",
      "  <p>\n",
      "   This is a paragraph of text with some words in bold.\n",
      "  </p>\n",
      "  <img height=\"340\" src=\"https://external-content.duckduckgo.com/iu/?u=https%3A%2F%2Fmedia.giphy.com%2Fmedia%2FkFgzrTt798d2w%2Fgiphy.gif&amp;f=1&amp;nofb=1\" width=\"493\"/>\n",
      "  <p>\n",
      "   And that just above is an image.\n",
      "  </p>\n",
      " </body>\n",
      "</html>\n",
      "\n"
     ]
    }
   ],
   "source": [
    "print(soup.prettify())"
   ]
  },
  {
   "cell_type": "code",
   "execution_count": 20,
   "metadata": {},
   "outputs": [
    {
     "data": {
      "text/plain": [
       "'This is the main title of the webpage'"
      ]
     },
     "execution_count": 20,
     "metadata": {},
     "output_type": "execute_result"
    }
   ],
   "source": [
    "soup.h1.string #Assignment 1"
   ]
  },
  {
   "cell_type": "code",
   "execution_count": 21,
   "metadata": {},
   "outputs": [
    {
     "data": {
      "text/plain": [
       "'https://external-content.duckduckgo.com/iu/?u=https%3A%2F%2Fmedia.giphy.com%2Fmedia%2FkFgzrTt798d2w%2Fgiphy.gif&f=1&nofb=1'"
      ]
     },
     "execution_count": 21,
     "metadata": {},
     "output_type": "execute_result"
    }
   ],
   "source": [
    "soup.img[\"src\"] #sweet, assignment 2"
   ]
  },
  {
   "cell_type": "code",
   "execution_count": 22,
   "metadata": {},
   "outputs": [
    {
     "data": {
      "text/plain": [
       "<h2>This is another sub-heading</h2>"
      ]
     },
     "execution_count": 22,
     "metadata": {},
     "output_type": "execute_result"
    }
   ],
   "source": [
    "soup.find_all(\"h2\")[1] #boojaaaa assignment 3"
   ]
  },
  {
   "cell_type": "code",
   "execution_count": 23,
   "metadata": {},
   "outputs": [
    {
     "data": {
      "text/plain": [
       "<div height=\"100\" id=\"main\" width=\"200\">\n",
       "<h1>This is the main title of the webpage</h1>\n",
       "<h2>This is a sub-heading</h2>\n",
       "<p>This is a paragraph of text.</p>\n",
       "</div>"
      ]
     },
     "execution_count": 23,
     "metadata": {},
     "output_type": "execute_result"
    }
   ],
   "source": [
    "soup.find(id=\"main\") #assignment 4"
   ]
  },
  {
   "cell_type": "markdown",
   "metadata": {},
   "source": [
    "> **Ex. 5** Load the HTML you downloaded in Ex. 3. For each post, extract price, square meter size and \"Ejerudgift\". You should create three different lists that contain each variable across posts."
   ]
  },
  {
   "cell_type": "code",
   "execution_count": 24,
   "metadata": {},
   "outputs": [],
   "source": [
    "import requests as rq\n",
    "from bs4 import BeautifulSoup\n",
    "#... to begin our work with online material and BeautifulSoup!"
   ]
  },
  {
   "cell_type": "code",
   "execution_count": 25,
   "metadata": {},
   "outputs": [],
   "source": [
    "#Our link was called r:\n",
    "soup2=BeautifulSoup(r,\"html.parser\")"
   ]
  },
  {
   "cell_type": "code",
   "execution_count": 26,
   "metadata": {},
   "outputs": [
    {
     "data": {
      "text/plain": [
       "[<div _ngcontent-sc51=\"\" class=\"primary-value d-flex justify-content-end\"><app-tooltip _ngcontent-sc51=\"\" _nghost-sc39=\"\" class=\"ml-2 md-right d-flex\"><!-- --><p _ngcontent-sc39=\"\" class=\"app-tooltip\"><!-- --><!-- --> Pris er faldet <!-- --><!-- --></p><!-- --><app-badge _ngcontent-sc51=\"\" _nghost-sc15=\"\" aria-describedby=\"cdk-describedby-message-90245\" cdk-describedby-host=\"\" class=\"px-3\"><span _ngcontent-sc15=\"\" class=\"badge secondary small\"> -5% </span></app-badge><!-- --></app-tooltip> 1.795.000 kr. </div>,\n",
       " <div _ngcontent-sc51=\"\" class=\"primary-value d-flex justify-content-end\"><app-tooltip _ngcontent-sc51=\"\" _nghost-sc39=\"\" class=\"ml-2 md-right d-flex\"><!-- --><p _ngcontent-sc39=\"\" class=\"app-tooltip\"><!-- --><!-- --> Pris er faldet <!-- --><!-- --></p><!-- --></app-tooltip> 7.250.000 kr. </div>,\n",
       " <div _ngcontent-sc51=\"\" class=\"primary-value d-flex justify-content-end\"><app-tooltip _ngcontent-sc51=\"\" _nghost-sc39=\"\" class=\"ml-2 md-right d-flex\"><!-- --><p _ngcontent-sc39=\"\" class=\"app-tooltip\"><!-- --><!-- --> Pris er faldet <!-- --><!-- --></p><!-- --></app-tooltip> 1.345.000 kr. </div>,\n",
       " <div _ngcontent-sc51=\"\" class=\"primary-value d-flex justify-content-end\"><app-tooltip _ngcontent-sc51=\"\" _nghost-sc39=\"\" class=\"ml-2 md-right d-flex\"><!-- --><p _ngcontent-sc39=\"\" class=\"app-tooltip\"><!-- --><!-- --> Pris er faldet <!-- --><!-- --></p><!-- --></app-tooltip> 1.398.000 kr. </div>,\n",
       " <div _ngcontent-sc51=\"\" class=\"primary-value d-flex justify-content-end\"><app-tooltip _ngcontent-sc51=\"\" _nghost-sc39=\"\" class=\"ml-2 md-right d-flex\"><!-- --><p _ngcontent-sc39=\"\" class=\"app-tooltip\"><!-- --><!-- --> Pris er faldet <!-- --><!-- --></p><!-- --><app-badge _ngcontent-sc51=\"\" _nghost-sc15=\"\" aria-describedby=\"cdk-describedby-message-90245\" cdk-describedby-host=\"\" class=\"px-3\"><span _ngcontent-sc15=\"\" class=\"badge secondary small\"> -5% </span></app-badge><!-- --></app-tooltip> 1.445.000 kr. </div>,\n",
       " <div _ngcontent-sc51=\"\" class=\"primary-value d-flex justify-content-end\"><app-tooltip _ngcontent-sc51=\"\" _nghost-sc39=\"\" class=\"ml-2 md-right d-flex\"><!-- --><p _ngcontent-sc39=\"\" class=\"app-tooltip\"><!-- --><!-- --> Pris er faldet <!-- --><!-- --></p><!-- --></app-tooltip> 1.495.000 kr. </div>,\n",
       " <div _ngcontent-sc51=\"\" class=\"primary-value d-flex justify-content-end\"><app-tooltip _ngcontent-sc51=\"\" _nghost-sc39=\"\" class=\"ml-2 md-right d-flex\"><!-- --><p _ngcontent-sc39=\"\" class=\"app-tooltip\"><!-- --><!-- --> Pris er faldet <!-- --><!-- --></p><!-- --></app-tooltip> 1.495.000 kr. </div>,\n",
       " <div _ngcontent-sc51=\"\" class=\"primary-value d-flex justify-content-end\"><app-tooltip _ngcontent-sc51=\"\" _nghost-sc39=\"\" class=\"ml-2 md-right d-flex\"><!-- --><p _ngcontent-sc39=\"\" class=\"app-tooltip\"><!-- --><!-- --> Pris er faldet <!-- --><!-- --></p><!-- --></app-tooltip> 1.495.000 kr. </div>,\n",
       " <div _ngcontent-sc51=\"\" class=\"primary-value d-flex justify-content-end\"><app-tooltip _ngcontent-sc51=\"\" _nghost-sc39=\"\" class=\"ml-2 md-right d-flex\"><!-- --><p _ngcontent-sc39=\"\" class=\"app-tooltip\"><!-- --><!-- --> Pris er faldet <!-- --><!-- --></p><!-- --><app-badge _ngcontent-sc51=\"\" _nghost-sc15=\"\" aria-describedby=\"cdk-describedby-message-90245\" cdk-describedby-host=\"\" class=\"px-3\"><span _ngcontent-sc15=\"\" class=\"badge secondary small\"> -7% </span></app-badge><!-- --></app-tooltip> 1.575.000 kr. </div>,\n",
       " <div _ngcontent-sc51=\"\" class=\"primary-value d-flex justify-content-end\"><app-tooltip _ngcontent-sc51=\"\" _nghost-sc39=\"\" class=\"ml-2 md-right d-flex\"><!-- --><p _ngcontent-sc39=\"\" class=\"app-tooltip\"><!-- --><!-- --> Pris er faldet <!-- --><!-- --></p><!-- --></app-tooltip> 1.595.000 kr. </div>,\n",
       " <div _ngcontent-sc51=\"\" class=\"primary-value d-flex justify-content-end\"><app-tooltip _ngcontent-sc51=\"\" _nghost-sc39=\"\" class=\"ml-2 md-right d-flex\"><!-- --><p _ngcontent-sc39=\"\" class=\"app-tooltip\"><!-- --><!-- --> Pris er faldet <!-- --><!-- --></p><!-- --></app-tooltip> 1.595.000 kr. </div>,\n",
       " <div _ngcontent-sc51=\"\" class=\"primary-value d-flex justify-content-end\"><app-tooltip _ngcontent-sc51=\"\" _nghost-sc39=\"\" class=\"ml-2 md-right d-flex\"><!-- --><p _ngcontent-sc39=\"\" class=\"app-tooltip\"><!-- --><!-- --> Pris er faldet <!-- --><!-- --></p><!-- --><app-badge _ngcontent-sc51=\"\" _nghost-sc15=\"\" aria-describedby=\"cdk-describedby-message-90245\" cdk-describedby-host=\"\" class=\"px-3\"><span _ngcontent-sc15=\"\" class=\"badge secondary small\"> -12% </span></app-badge><!-- --></app-tooltip> 1.750.000 kr. </div>,\n",
       " <div _ngcontent-sc51=\"\" class=\"primary-value d-flex justify-content-end\"><app-tooltip _ngcontent-sc51=\"\" _nghost-sc39=\"\" class=\"ml-2 md-right d-flex\"><!-- --><p _ngcontent-sc39=\"\" class=\"app-tooltip\"><!-- --><!-- --> Pris er faldet <!-- --><!-- --></p><!-- --></app-tooltip> 1.750.000 kr. </div>,\n",
       " <div _ngcontent-sc51=\"\" class=\"primary-value d-flex justify-content-end\"><app-tooltip _ngcontent-sc51=\"\" _nghost-sc39=\"\" class=\"ml-2 md-right d-flex\"><!-- --><p _ngcontent-sc39=\"\" class=\"app-tooltip\"><!-- --><!-- --> Pris er faldet <!-- --><!-- --></p><!-- --></app-tooltip> 1.795.000 kr. </div>,\n",
       " <div _ngcontent-sc51=\"\" class=\"primary-value d-flex justify-content-end\"><app-tooltip _ngcontent-sc51=\"\" _nghost-sc39=\"\" class=\"ml-2 md-right d-flex\"><!-- --><p _ngcontent-sc39=\"\" class=\"app-tooltip\"><!-- --><!-- --> Pris er faldet <!-- --><!-- --></p><!-- --><app-badge _ngcontent-sc51=\"\" _nghost-sc15=\"\" aria-describedby=\"cdk-describedby-message-90245\" cdk-describedby-host=\"\" class=\"px-3\"><span _ngcontent-sc15=\"\" class=\"badge secondary small\"> -5% </span></app-badge><!-- --></app-tooltip> 1.795.000 kr. </div>,\n",
       " <div _ngcontent-sc51=\"\" class=\"primary-value d-flex justify-content-end\"><app-tooltip _ngcontent-sc51=\"\" _nghost-sc39=\"\" class=\"ml-2 md-right d-flex\"><!-- --><p _ngcontent-sc39=\"\" class=\"app-tooltip\"><!-- --><!-- --> Pris er faldet <!-- --><!-- --></p><!-- --></app-tooltip> 1.795.000 kr. </div>,\n",
       " <div _ngcontent-sc51=\"\" class=\"primary-value d-flex justify-content-end\"><app-tooltip _ngcontent-sc51=\"\" _nghost-sc39=\"\" class=\"ml-2 md-right d-flex\"><!-- --><p _ngcontent-sc39=\"\" class=\"app-tooltip\"><!-- --><!-- --> Pris er faldet <!-- --><!-- --></p><!-- --></app-tooltip> 1.795.000 kr. </div>,\n",
       " <div _ngcontent-sc51=\"\" class=\"primary-value d-flex justify-content-end\"><app-tooltip _ngcontent-sc51=\"\" _nghost-sc39=\"\" class=\"ml-2 md-right d-flex\"><!-- --><p _ngcontent-sc39=\"\" class=\"app-tooltip\"><!-- --><!-- --> Pris er faldet <!-- --><!-- --></p><!-- --></app-tooltip> 1.845.000 kr. </div>,\n",
       " <div _ngcontent-sc51=\"\" class=\"primary-value d-flex justify-content-end\"><app-tooltip _ngcontent-sc51=\"\" _nghost-sc39=\"\" class=\"ml-2 md-right d-flex\"><!-- --><p _ngcontent-sc39=\"\" class=\"app-tooltip\"><!-- --><!-- --> Pris er faldet <!-- --><!-- --></p><!-- --></app-tooltip> 1.895.000 kr. </div>,\n",
       " <div _ngcontent-sc51=\"\" class=\"primary-value d-flex justify-content-end\"><app-tooltip _ngcontent-sc51=\"\" _nghost-sc39=\"\" class=\"ml-2 md-right d-flex\"><!-- --><p _ngcontent-sc39=\"\" class=\"app-tooltip\"><!-- --><!-- --> Pris er faldet <!-- --><!-- --></p><!-- --></app-tooltip> 1.895.000 kr. </div>,\n",
       " <div _ngcontent-sc51=\"\" class=\"primary-value d-flex justify-content-end\"><app-tooltip _ngcontent-sc51=\"\" _nghost-sc39=\"\" class=\"ml-2 md-right d-flex\"><!-- --><p _ngcontent-sc39=\"\" class=\"app-tooltip\"><!-- --><!-- --> Pris er faldet <!-- --><!-- --></p><!-- --><app-badge _ngcontent-sc51=\"\" _nghost-sc15=\"\" aria-describedby=\"cdk-describedby-message-90245\" cdk-describedby-host=\"\" class=\"px-3\"><span _ngcontent-sc15=\"\" class=\"badge secondary small\"> -16% </span></app-badge><!-- --></app-tooltip> 1.898.000 kr. </div>,\n",
       " <div _ngcontent-sc51=\"\" class=\"primary-value d-flex justify-content-end\"><app-tooltip _ngcontent-sc51=\"\" _nghost-sc39=\"\" class=\"ml-2 md-right d-flex\"><!-- --><p _ngcontent-sc39=\"\" class=\"app-tooltip\"><!-- --><!-- --> Pris er faldet <!-- --><!-- --></p><!-- --><app-badge _ngcontent-sc51=\"\" _nghost-sc15=\"\" aria-describedby=\"cdk-describedby-message-90245\" cdk-describedby-host=\"\" class=\"px-3\"><span _ngcontent-sc15=\"\" class=\"badge secondary small\"> -5% </span></app-badge><!-- --></app-tooltip> 1.898.000 kr. </div>,\n",
       " <div _ngcontent-sc51=\"\" class=\"primary-value d-flex justify-content-end\"><app-tooltip _ngcontent-sc51=\"\" _nghost-sc39=\"\" class=\"ml-2 md-right d-flex\"><!-- --><p _ngcontent-sc39=\"\" class=\"app-tooltip\"><!-- --><!-- --> Pris er faldet <!-- --><!-- --></p><!-- --></app-tooltip> 1.975.000 kr. </div>,\n",
       " <div _ngcontent-sc51=\"\" class=\"primary-value d-flex justify-content-end\"><app-tooltip _ngcontent-sc51=\"\" _nghost-sc39=\"\" class=\"ml-2 md-right d-flex\"><!-- --><p _ngcontent-sc39=\"\" class=\"app-tooltip\"><!-- --><!-- --> Pris er faldet <!-- --><!-- --></p><!-- --></app-tooltip> 1.995.000 kr. </div>,\n",
       " <div _ngcontent-sc51=\"\" class=\"primary-value d-flex justify-content-end\"><app-tooltip _ngcontent-sc51=\"\" _nghost-sc39=\"\" class=\"ml-2 md-right d-flex\"><!-- --><p _ngcontent-sc39=\"\" class=\"app-tooltip\"><!-- --><!-- --> Pris er faldet <!-- --><!-- --></p><!-- --></app-tooltip> 1.999.000 kr. </div>,\n",
       " <div _ngcontent-sc51=\"\" class=\"primary-value d-flex justify-content-end\"><app-tooltip _ngcontent-sc51=\"\" _nghost-sc39=\"\" class=\"ml-2 md-right d-flex\"><!-- --><p _ngcontent-sc39=\"\" class=\"app-tooltip\"><!-- --><!-- --> Pris er faldet <!-- --><!-- --></p><!-- --><app-badge _ngcontent-sc51=\"\" _nghost-sc15=\"\" aria-describedby=\"cdk-describedby-message-90245\" cdk-describedby-host=\"\" class=\"px-3\"><span _ngcontent-sc15=\"\" class=\"badge secondary small\"> -2% </span></app-badge><!-- --></app-tooltip> 2.045.000 kr. </div>,\n",
       " <div _ngcontent-sc51=\"\" class=\"primary-value d-flex justify-content-end\"><app-tooltip _ngcontent-sc51=\"\" _nghost-sc39=\"\" class=\"ml-2 md-right d-flex\"><!-- --><p _ngcontent-sc39=\"\" class=\"app-tooltip\"><!-- --><!-- --> Pris er faldet <!-- --><!-- --></p><!-- --></app-tooltip> 2.095.000 kr. </div>,\n",
       " <div _ngcontent-sc51=\"\" class=\"primary-value d-flex justify-content-end\"><app-tooltip _ngcontent-sc51=\"\" _nghost-sc39=\"\" class=\"ml-2 md-right d-flex\"><!-- --><p _ngcontent-sc39=\"\" class=\"app-tooltip\"><!-- --><!-- --> Pris er faldet <!-- --><!-- --></p><!-- --><app-badge _ngcontent-sc51=\"\" _nghost-sc15=\"\" aria-describedby=\"cdk-describedby-message-90245\" cdk-describedby-host=\"\" class=\"px-3\"><span _ngcontent-sc15=\"\" class=\"badge secondary small\"> -4% </span></app-badge><!-- --></app-tooltip> 2.099.999 kr. </div>,\n",
       " <div _ngcontent-sc51=\"\" class=\"primary-value d-flex justify-content-end\"><app-tooltip _ngcontent-sc51=\"\" _nghost-sc39=\"\" class=\"ml-2 md-right d-flex\"><!-- --><p _ngcontent-sc39=\"\" class=\"app-tooltip\"><!-- --><!-- --> Pris er faldet <!-- --><!-- --></p><!-- --></app-tooltip> 2.145.000 kr. </div>,\n",
       " <div _ngcontent-sc51=\"\" class=\"primary-value d-flex justify-content-end\"><app-tooltip _ngcontent-sc51=\"\" _nghost-sc39=\"\" class=\"ml-2 md-right d-flex\"><!-- --><p _ngcontent-sc39=\"\" class=\"app-tooltip\"><!-- --><!-- --> Pris er faldet <!-- --><!-- --></p><!-- --></app-tooltip> 2.198.000 kr. </div>,\n",
       " <div _ngcontent-sc51=\"\" class=\"primary-value d-flex justify-content-end\"><app-tooltip _ngcontent-sc51=\"\" _nghost-sc39=\"\" class=\"ml-2 md-right d-flex\"><!-- --><p _ngcontent-sc39=\"\" class=\"app-tooltip\"><!-- --><!-- --> Pris er faldet <!-- --><!-- --></p><!-- --><app-badge _ngcontent-sc51=\"\" _nghost-sc15=\"\" aria-describedby=\"cdk-describedby-message-90245\" cdk-describedby-host=\"\" class=\"px-3\"><span _ngcontent-sc15=\"\" class=\"badge secondary small\"> -4% </span></app-badge><!-- --></app-tooltip> 2.199.000 kr. </div>,\n",
       " <div _ngcontent-sc51=\"\" class=\"primary-value d-flex justify-content-end\"><app-tooltip _ngcontent-sc51=\"\" _nghost-sc39=\"\" class=\"ml-2 md-right d-flex\"><!-- --><p _ngcontent-sc39=\"\" class=\"app-tooltip\"><!-- --><!-- --> Pris er faldet <!-- --><!-- --></p><!-- --><app-badge _ngcontent-sc51=\"\" _nghost-sc15=\"\" aria-describedby=\"cdk-describedby-message-90245\" cdk-describedby-host=\"\" class=\"px-3\"><span _ngcontent-sc15=\"\" class=\"badge secondary small\"> -2% </span></app-badge><!-- --></app-tooltip> 2.248.000 kr. </div>,\n",
       " <div _ngcontent-sc51=\"\" class=\"primary-value d-flex justify-content-end\"><app-tooltip _ngcontent-sc51=\"\" _nghost-sc39=\"\" class=\"ml-2 md-right d-flex\"><!-- --><p _ngcontent-sc39=\"\" class=\"app-tooltip\"><!-- --><!-- --> Pris er faldet <!-- --><!-- --></p><!-- --><app-badge _ngcontent-sc51=\"\" _nghost-sc15=\"\" aria-describedby=\"cdk-describedby-message-90245\" cdk-describedby-host=\"\" class=\"px-3\"><span _ngcontent-sc15=\"\" class=\"badge secondary small\"> -4% </span></app-badge><!-- --></app-tooltip> 2.295.000 kr. </div>,\n",
       " <div _ngcontent-sc51=\"\" class=\"primary-value d-flex justify-content-end\"><app-tooltip _ngcontent-sc51=\"\" _nghost-sc39=\"\" class=\"ml-2 md-right d-flex\"><!-- --><p _ngcontent-sc39=\"\" class=\"app-tooltip\"><!-- --><!-- --> Pris er faldet <!-- --><!-- --></p><!-- --></app-tooltip> 2.295.000 kr. </div>,\n",
       " <div _ngcontent-sc51=\"\" class=\"primary-value d-flex justify-content-end\"><app-tooltip _ngcontent-sc51=\"\" _nghost-sc39=\"\" class=\"ml-2 md-right d-flex\"><!-- --><p _ngcontent-sc39=\"\" class=\"app-tooltip\"><!-- --><!-- --> Pris er steget <!-- --><!-- --></p><!-- --><app-badge _ngcontent-sc51=\"\" _nghost-sc15=\"\" aria-describedby=\"cdk-describedby-message-90246\" cdk-describedby-host=\"\" class=\"px-3\"><span _ngcontent-sc15=\"\" class=\"badge success small\"> 5% </span></app-badge><!-- --></app-tooltip> 2.299.000 kr. </div>,\n",
       " <div _ngcontent-sc51=\"\" class=\"primary-value d-flex justify-content-end\"><app-tooltip _ngcontent-sc51=\"\" _nghost-sc39=\"\" class=\"ml-2 md-right d-flex\"><!-- --><p _ngcontent-sc39=\"\" class=\"app-tooltip\"><!-- --><!-- --> Pris er faldet <!-- --><!-- --></p><!-- --></app-tooltip> 2.345.000 kr. </div>,\n",
       " <div _ngcontent-sc51=\"\" class=\"primary-value d-flex justify-content-end\"><app-tooltip _ngcontent-sc51=\"\" _nghost-sc39=\"\" class=\"ml-2 md-right d-flex\"><!-- --><p _ngcontent-sc39=\"\" class=\"app-tooltip\"><!-- --><!-- --> Pris er faldet <!-- --><!-- --></p><!-- --></app-tooltip> 2.345.000 kr. </div>,\n",
       " <div _ngcontent-sc51=\"\" class=\"primary-value d-flex justify-content-end\"><app-tooltip _ngcontent-sc51=\"\" _nghost-sc39=\"\" class=\"ml-2 md-right d-flex\"><!-- --><p _ngcontent-sc39=\"\" class=\"app-tooltip\"><!-- --><!-- --> Pris er faldet <!-- --><!-- --></p><!-- --><app-badge _ngcontent-sc51=\"\" _nghost-sc15=\"\" aria-describedby=\"cdk-describedby-message-90245\" cdk-describedby-host=\"\" class=\"px-3\"><span _ngcontent-sc15=\"\" class=\"badge secondary small\"> -4% </span></app-badge><!-- --></app-tooltip> 2.395.000 kr. </div>,\n",
       " <div _ngcontent-sc51=\"\" class=\"primary-value d-flex justify-content-end\"><app-tooltip _ngcontent-sc51=\"\" _nghost-sc39=\"\" class=\"ml-2 md-right d-flex\"><!-- --><p _ngcontent-sc39=\"\" class=\"app-tooltip\"><!-- --><!-- --> Pris er faldet <!-- --><!-- --></p><!-- --><app-badge _ngcontent-sc51=\"\" _nghost-sc15=\"\" aria-describedby=\"cdk-describedby-message-90245\" cdk-describedby-host=\"\" class=\"px-3\"><span _ngcontent-sc15=\"\" class=\"badge secondary small\"> -4% </span></app-badge><!-- --></app-tooltip> 2.395.000 kr. </div>,\n",
       " <div _ngcontent-sc51=\"\" class=\"primary-value d-flex justify-content-end\"><app-tooltip _ngcontent-sc51=\"\" _nghost-sc39=\"\" class=\"ml-2 md-right d-flex\"><!-- --><p _ngcontent-sc39=\"\" class=\"app-tooltip\"><!-- --><!-- --> Pris er faldet <!-- --><!-- --></p><!-- --></app-tooltip> 2.395.000 kr. </div>,\n",
       " <div _ngcontent-sc51=\"\" class=\"primary-value d-flex justify-content-end\"><app-tooltip _ngcontent-sc51=\"\" _nghost-sc39=\"\" class=\"ml-2 md-right d-flex\"><!-- --><p _ngcontent-sc39=\"\" class=\"app-tooltip\"><!-- --><!-- --> Pris er faldet <!-- --><!-- --></p><!-- --></app-tooltip> 2.400.000 kr. </div>,\n",
       " <div _ngcontent-sc51=\"\" class=\"primary-value d-flex justify-content-end\"><app-tooltip _ngcontent-sc51=\"\" _nghost-sc39=\"\" class=\"ml-2 md-right d-flex\"><!-- --><p _ngcontent-sc39=\"\" class=\"app-tooltip\"><!-- --><!-- --> Pris er faldet <!-- --><!-- --></p><!-- --><app-badge _ngcontent-sc51=\"\" _nghost-sc15=\"\" aria-describedby=\"cdk-describedby-message-90245\" cdk-describedby-host=\"\" class=\"px-3\"><span _ngcontent-sc15=\"\" class=\"badge secondary small\"> -2% </span></app-badge><!-- --></app-tooltip> 2.445.000 kr. </div>,\n",
       " <div _ngcontent-sc51=\"\" class=\"primary-value d-flex justify-content-end\"><app-tooltip _ngcontent-sc51=\"\" _nghost-sc39=\"\" class=\"ml-2 md-right d-flex\"><!-- --><p _ngcontent-sc39=\"\" class=\"app-tooltip\"><!-- --><!-- --> Pris er faldet <!-- --><!-- --></p><!-- --><app-badge _ngcontent-sc51=\"\" _nghost-sc15=\"\" aria-describedby=\"cdk-describedby-message-90245\" cdk-describedby-host=\"\" class=\"px-3\"><span _ngcontent-sc15=\"\" class=\"badge secondary small\"> -2% </span></app-badge><!-- --></app-tooltip> 2.445.000 kr. </div>,\n",
       " <div _ngcontent-sc51=\"\" class=\"primary-value d-flex justify-content-end\"><app-tooltip _ngcontent-sc51=\"\" _nghost-sc39=\"\" class=\"ml-2 md-right d-flex\"><!-- --><p _ngcontent-sc39=\"\" class=\"app-tooltip\"><!-- --><!-- --> Pris er faldet <!-- --><!-- --></p><!-- --></app-tooltip> 2.450.000 kr. </div>,\n",
       " <div _ngcontent-sc51=\"\" class=\"primary-value d-flex justify-content-end\"><app-tooltip _ngcontent-sc51=\"\" _nghost-sc39=\"\" class=\"ml-2 md-right d-flex\"><!-- --><p _ngcontent-sc39=\"\" class=\"app-tooltip\"><!-- --><!-- --> Pris er faldet <!-- --><!-- --></p><!-- --></app-tooltip> 2.495.000 kr. </div>,\n",
       " <div _ngcontent-sc51=\"\" class=\"primary-value d-flex justify-content-end\"><app-tooltip _ngcontent-sc51=\"\" _nghost-sc39=\"\" class=\"ml-2 md-right d-flex\"><!-- --><p _ngcontent-sc39=\"\" class=\"app-tooltip\"><!-- --><!-- --> Pris er faldet <!-- --><!-- --></p><!-- --></app-tooltip> 2.495.000 kr. </div>,\n",
       " <div _ngcontent-sc51=\"\" class=\"primary-value d-flex justify-content-end\"><app-tooltip _ngcontent-sc51=\"\" _nghost-sc39=\"\" class=\"ml-2 md-right d-flex\"><!-- --><p _ngcontent-sc39=\"\" class=\"app-tooltip\"><!-- --><!-- --> Pris er faldet <!-- --><!-- --></p><!-- --></app-tooltip> 2.495.000 kr. </div>,\n",
       " <div _ngcontent-sc51=\"\" class=\"primary-value d-flex justify-content-end\"><app-tooltip _ngcontent-sc51=\"\" _nghost-sc39=\"\" class=\"ml-2 md-right d-flex\"><!-- --><p _ngcontent-sc39=\"\" class=\"app-tooltip\"><!-- --><!-- --> Pris er faldet <!-- --><!-- --></p><!-- --></app-tooltip> 2.595.000 kr. </div>,\n",
       " <div _ngcontent-sc51=\"\" class=\"primary-value d-flex justify-content-end\"><app-tooltip _ngcontent-sc51=\"\" _nghost-sc39=\"\" class=\"ml-2 md-right d-flex\"><!-- --><p _ngcontent-sc39=\"\" class=\"app-tooltip\"><!-- --><!-- --> Pris er faldet <!-- --><!-- --></p><!-- --></app-tooltip> 2.625.000 kr. </div>,\n",
       " <div _ngcontent-sc51=\"\" class=\"primary-value d-flex justify-content-end\"><app-tooltip _ngcontent-sc51=\"\" _nghost-sc39=\"\" class=\"ml-2 md-right d-flex\"><!-- --><p _ngcontent-sc39=\"\" class=\"app-tooltip\"><!-- --><!-- --> Pris er faldet <!-- --><!-- --></p><!-- --></app-tooltip> 2.635.000 kr. </div>,\n",
       " <div _ngcontent-sc51=\"\" class=\"primary-value d-flex justify-content-end\"><app-tooltip _ngcontent-sc51=\"\" _nghost-sc39=\"\" class=\"ml-2 md-right d-flex\"><!-- --><p _ngcontent-sc39=\"\" class=\"app-tooltip\"><!-- --><!-- --> Pris er faldet <!-- --><!-- --></p><!-- --></app-tooltip> 2.645.000 kr. </div>,\n",
       " <div _ngcontent-sc51=\"\" class=\"primary-value d-flex justify-content-end\"><app-tooltip _ngcontent-sc51=\"\" _nghost-sc39=\"\" class=\"ml-2 md-right d-flex\"><!-- --><p _ngcontent-sc39=\"\" class=\"app-tooltip\"><!-- --><!-- --> Pris er faldet <!-- --><!-- --></p><!-- --></app-tooltip> 2.650.000 kr. </div>]"
      ]
     },
     "execution_count": 26,
     "metadata": {},
     "output_type": "execute_result"
    }
   ],
   "source": [
    "#I found something attached to every price - a class instead of an id!\n",
    "#However, only class_ instead of class works here in python and we therefore find it like this:\n",
    "soup2.find_all(class_=\"primary-value d-flex justify-content-end\")"
   ]
  },
  {
   "cell_type": "code",
   "execution_count": 27,
   "metadata": {},
   "outputs": [],
   "source": [
    "#VI DROPPER FUNKTIONER\n",
    "import re\n",
    "Prices=soup2.find_all(class_=\"primary-value d-flex justify-content-end\")\n",
    "Prices_list=[]\n",
    "for element in Prices:\n",
    "    Prices_list.append(element)\n",
    "    #for at gøre den mere samarbejdsvillig som liste\n",
    "#I've changed my mind - it's better to use this as a string in order to use findall() later\n",
    "#(which is only available to strings)\n",
    "pricestring=str(Prices)"
   ]
  },
  {
   "cell_type": "code",
   "execution_count": 28,
   "metadata": {},
   "outputs": [],
   "source": [
    "#type pricestring if you want to see how the messy string looks"
   ]
  },
  {
   "cell_type": "code",
   "execution_count": 29,
   "metadata": {},
   "outputs": [],
   "source": [
    "#Defining the object we want to find with the re-module:\n",
    "#which is a whitespace+one number (only for things below 10 mio+dot+numbers+dot+numbers\n",
    "number=re.compile(\"(\\s\\d+?.\\d+\\.\\d+)\")\n",
    "numbershort=re.compile(\"(\\s\\d+?.\\d+)\")"
   ]
  },
  {
   "cell_type": "code",
   "execution_count": 30,
   "metadata": {},
   "outputs": [],
   "source": [
    "clean_prices=numbershort.findall(pricestring)"
   ]
  },
  {
   "cell_type": "code",
   "execution_count": 31,
   "metadata": {},
   "outputs": [],
   "source": [
    "boligprisliste=number.findall(pricestring)\n",
    "#boligprisliste\n",
    "#length of boligprisliste is 52 -> len(boligprisliste)"
   ]
  },
  {
   "cell_type": "code",
   "execution_count": 32,
   "metadata": {},
   "outputs": [],
   "source": [
    "#testing to get some clear numbers\n",
    "udendotliste=[]\n",
    "for element in boligprisliste:\n",
    "    element.replace(\".\",\"\")\n",
    "    udendotliste.append(element)"
   ]
  },
  {
   "cell_type": "code",
   "execution_count": 33,
   "metadata": {},
   "outputs": [],
   "source": [
    "udendots=str(boligprisliste)\n",
    "udendot=udendots.replace(\".\",\"\")"
   ]
  },
  {
   "cell_type": "code",
   "execution_count": 34,
   "metadata": {},
   "outputs": [],
   "source": [
    "tal=re.compile(\"\\d{7}\")\n",
    "tallisten=tal.findall(udendot)"
   ]
  },
  {
   "cell_type": "code",
   "execution_count": 35,
   "metadata": {},
   "outputs": [
    {
     "data": {
      "text/plain": [
       "'7250000'"
      ]
     },
     "execution_count": 35,
     "metadata": {},
     "output_type": "execute_result"
    }
   ],
   "source": [
    "#type tallisten to see how it looks like\n",
    "tallisten[1]"
   ]
  },
  {
   "cell_type": "code",
   "execution_count": 36,
   "metadata": {},
   "outputs": [],
   "source": [
    "#btw class gives error, better to use class_"
   ]
  },
  {
   "cell_type": "code",
   "execution_count": 37,
   "metadata": {},
   "outputs": [],
   "source": [
    "#WE FINALLY HAVE THE PRICESSSSS IN A LIST - no function necessary!"
   ]
  },
  {
   "cell_type": "code",
   "execution_count": 38,
   "metadata": {},
   "outputs": [],
   "source": [
    "#Nu til kvadratmeter:\n",
    "#find_all(\"div\"[13]) måske\n",
    "#<span _ngcontent-boliga-app-c46=\"\" class=\"text-nowrap\">47 m²</span>"
   ]
  },
  {
   "cell_type": "code",
   "execution_count": 39,
   "metadata": {},
   "outputs": [],
   "source": [
    "import re\n",
    "collectionscrap=soup2.find_all(\"app-house-details\")\n",
    "meters=re.compile(\"\\d+\\s\")\n",
    "#so now, after defining the stuff, lets take the specific details for meters in to a list"
   ]
  },
  {
   "cell_type": "code",
   "execution_count": 40,
   "metadata": {},
   "outputs": [
    {
     "data": {
      "text/plain": [
       "<app-house-details _ngcontent-sc51=\"\" _nghost-sc54=\"\" class=\"flex-grow-1\"><div _ngcontent-sc54=\"\" class=\"house-details-blocks\"><!-- --><div _ngcontent-sc54=\"\" class=\"detail d-lg-flex\"><app-tooltip _ngcontent-sc54=\"\" _nghost-sc39=\"\" class=\"tooltip-nowrap tooltip-top-left w-100\"><!-- --><div _ngcontent-sc54=\"\" class=\"d-flex flex-wrap pr-1\"><svg _ngcontent-sc54=\"\" class=\"icon-2 text-secondary\"><use _ngcontent-sc54=\"\" xlink:href=\"#icon-rooms\"></use></svg><span _ngcontent-sc54=\"\" class=\"text-nowrap\">6 værelser</span></div></app-tooltip></div><div _ngcontent-sc54=\"\" class=\"detail d-lg-flex\"><app-tooltip _ngcontent-sc54=\"\" _nghost-sc39=\"\" class=\"tooltip-nowrap tooltip-top-left w-100\"><!-- --><p _ngcontent-sc39=\"\" class=\"app-tooltip\"><!-- --><!-- --> Boligstørrelse <!-- --><!-- --></p><div _ngcontent-sc54=\"\" class=\"d-flex flex-wrap pr-1\"><svg _ngcontent-sc54=\"\" class=\"icon-2 text-secondary\"><use _ngcontent-sc54=\"\" xlink:href=\"#icon-square\"></use></svg><span _ngcontent-sc54=\"\" class=\"text-nowrap\">173 m²</span></div></app-tooltip></div><div _ngcontent-sc54=\"\" class=\"detail d-lg-flex\"><app-tooltip _ngcontent-sc54=\"\" _nghost-sc39=\"\" class=\"tooltip-nowrap tooltip-top-left w-100\"><!-- --><div _ngcontent-sc54=\"\" class=\"d-flex flex-wrap pr-1\"><svg _ngcontent-sc54=\"\" class=\"icon-2 text-secondary\"><use _ngcontent-sc54=\"\" xlink:href=\"#icon-energy\"></use></svg><span _ngcontent-sc54=\"\" class=\"text-nowrap\">Energimærke: D</span></div></app-tooltip></div></div></app-house-details>"
      ]
     },
     "execution_count": 40,
     "metadata": {},
     "output_type": "execute_result"
    }
   ],
   "source": [
    "#one element of the collectionscrap\n",
    "collectionscrap[1]"
   ]
  },
  {
   "cell_type": "code",
   "execution_count": 41,
   "metadata": {},
   "outputs": [],
   "source": [
    "meterliste=[]\n",
    "for element in collectionscrap:\n",
    "    meterliste.append(element.find_all(\"span\")[1])\n",
    "meterstring=str(meterliste)"
   ]
  },
  {
   "cell_type": "code",
   "execution_count": 42,
   "metadata": {},
   "outputs": [],
   "source": [
    "#this provides us with a very neat but not just number-based list, we'll change it like this:\n",
    "clean_meters=meters.findall(meterstring)"
   ]
  },
  {
   "cell_type": "code",
   "execution_count": 43,
   "metadata": {},
   "outputs": [
    {
     "data": {
      "text/plain": [
       "52"
      ]
     },
     "execution_count": 43,
     "metadata": {},
     "output_type": "execute_result"
    }
   ],
   "source": [
    "len(clean_meters)\n",
    "#.. the lenghts match <3 thank goodness -52"
   ]
  },
  {
   "cell_type": "code",
   "execution_count": 44,
   "metadata": {},
   "outputs": [],
   "source": [
    "y=[]\n",
    "x=[]\n",
    "for element in clean_meters:\n",
    "    yel=int(element)\n",
    "    y.append(yel)\n",
    "for element in clean_prices:\n",
    "    xyel=float(element)\n",
    "    x.append(xyel)\n",
    "    #in order to convert them to numbers, I have divided the mios with 1000\n",
    "    #(in theory - in reality, I have just found small pieces of string)"
   ]
  },
  {
   "cell_type": "code",
   "execution_count": 45,
   "metadata": {},
   "outputs": [],
   "source": [
    "price_meter=zip(y,x)"
   ]
  },
  {
   "cell_type": "code",
   "execution_count": 46,
   "metadata": {},
   "outputs": [],
   "source": [
    "meterpricelist=list(price_meter)"
   ]
  },
  {
   "cell_type": "code",
   "execution_count": 47,
   "metadata": {},
   "outputs": [],
   "source": [
    "collectionstring=str(collectionscrap)\n",
    "ejerudgift=re.compile(\"(Ejerudgift: )(\\d+.\\d+)\")\n",
    "ejerudglist=ejerudgift.findall(collectionstring)\n",
    "ejerudgstring=str(ejerudglist)\n",
    "ejerudglist\n",
    "udendots=ejerudgstring.replace(\".\",\"\")\n",
    "#let's get only the numbers:\n",
    "onlynumber=re.compile(\"\\d+\")\n",
    "ejerudgiftclean=onlynumber.findall(udendots)\n",
    "#ejerudgiftclean"
   ]
  },
  {
   "cell_type": "code",
   "execution_count": 48,
   "metadata": {},
   "outputs": [],
   "source": [
    "#getting small numbers for the ejerudgift (not that necessary after all)\n",
    "smallnumber=re.compile(\"(\\d+.\\d+)\")\n",
    "clean_ejerudgift=smallnumber.findall(ejerudgstring)\n",
    "z=[]\n",
    "for element in clean_ejerudgift:\n",
    "    zyl=float(element)\n",
    "    z.append(zyl)"
   ]
  },
  {
   "cell_type": "markdown",
   "metadata": {},
   "source": [
    "> **Ex. 6:** Make a scatter plot of square meter size vs. extracted price. Then make a new variable that \n",
    "measures price per square meter and scatter plot this against \"Ejerudgift\". Can you say anything about how\n",
    "\"Ejerudgift\" influences square meter price?"
   ]
  },
  {
   "cell_type": "code",
   "execution_count": 49,
   "metadata": {},
   "outputs": [
    {
     "data": {
      "text/plain": [
       "<Figure size 640x480 with 1 Axes>"
      ]
     },
     "metadata": {},
     "output_type": "display_data"
    }
   ],
   "source": [
    "import matplotlib.pyplot as plt\n",
    "values=[item[0] for item in meterpricelist]\n",
    "labels=[item[1] for item in meterpricelist]\n",
    "\n",
    "plt.scatter(values,labels)\n",
    "plt.show()"
   ]
  },
  {
   "cell_type": "code",
   "execution_count": 50,
   "metadata": {},
   "outputs": [],
   "source": [
    "price_per_meter=[]\n",
    "for element in meterpricelist:\n",
    "    price_per_meter.append((element[1]/element[0])*1000)"
   ]
  },
  {
   "cell_type": "code",
   "execution_count": 51,
   "metadata": {},
   "outputs": [
    {
     "data": {
      "text/plain": [
       "33.867924528301884"
      ]
     },
     "execution_count": 51,
     "metadata": {},
     "output_type": "execute_result"
    }
   ],
   "source": [
    "price_per_meter.pop(0)"
   ]
  },
  {
   "cell_type": "code",
   "execution_count": 52,
   "metadata": {},
   "outputs": [
    {
     "data": {
      "text/plain": [
       "41.907514450867055"
      ]
     },
     "execution_count": 52,
     "metadata": {},
     "output_type": "execute_result"
    }
   ],
   "source": [
    "price_per_meter.pop(0)"
   ]
  },
  {
   "cell_type": "code",
   "execution_count": 53,
   "metadata": {},
   "outputs": [
    {
     "data": {
      "text/plain": [
       "50"
      ]
     },
     "execution_count": 53,
     "metadata": {},
     "output_type": "execute_result"
    }
   ],
   "source": [
    "len(price_per_meter)"
   ]
  },
  {
   "cell_type": "code",
   "execution_count": 54,
   "metadata": {},
   "outputs": [
    {
     "data": {
      "text/plain": [
       "50"
      ]
     },
     "execution_count": 54,
     "metadata": {},
     "output_type": "execute_result"
    }
   ],
   "source": [
    "y.pop(0)\n",
    "y.pop(0)\n",
    "len(y)"
   ]
  },
  {
   "cell_type": "code",
   "execution_count": 55,
   "metadata": {},
   "outputs": [
    {
     "data": {
      "text/plain": [
       "<matplotlib.collections.PathCollection at 0x11c4a5510>"
      ]
     },
     "execution_count": 55,
     "metadata": {},
     "output_type": "execute_result"
    },
    {
     "data": {
      "image/png": "[encoded data removed]",
      "text/plain": [
       "<Figure size 432x288 with 1 Axes>"
      ]
     },
     "metadata": {
      "needs_background": "light"
     },
     "output_type": "display_data"
    }
   ],
   "source": [
    "ejerudgifts=zip(y,price_per_meter)\n",
    "ejerudgiftsliste=tuple(ejerudgifts)\n",
    "\n",
    "import matplotlib.pyplot as plt\n",
    "values1=[item[1] for item in ejerudgiftsliste]\n",
    "labels1=[item[0] for item in ejerudgiftsliste]\n",
    "plt.scatter(values1,labels1)"
   ]
  },
  {
   "cell_type": "code",
   "execution_count": 56,
   "metadata": {},
   "outputs": [
    {
     "data": {
      "text/plain": [
       "[]"
      ]
     },
     "execution_count": 56,
     "metadata": {},
     "output_type": "execute_result"
    },
    {
     "data": {
      "image/png": "[encoded data removed]",
      "text/plain": [
       "<Figure size 432x288 with 1 Axes>"
      ]
     },
     "metadata": {
      "needs_background": "light"
     },
     "output_type": "display_data"
    }
   ],
   "source": [
    "import matplotlib.pyplot as plt\n",
    "values1=[z]\n",
    "labels1=[price_per_meter]\n",
    "plt.scatter(values1,labels1)\n",
    "plt.xlabel(\"Ejerudgift\")\n",
    "plt.ylabel(\"Pris per Meter i tusinder\")\n",
    "plt.plot()"
   ]
  },
  {
   "cell_type": "markdown",
   "metadata": {},
   "source": [
    "> **Supercharge:** Crawl over pages of Boliga to collect this data for the entire borough of Nørrebro. Or all of Copenhagen!"
   ]
  },
  {
   "cell_type": "code",
   "execution_count": null,
   "metadata": {},
   "outputs": [],
   "source": []
  },
  {
   "cell_type": "code",
   "execution_count": 57,
   "metadata": {},
   "outputs": [],
   "source": [
    "#In order to do this, we need to make it into a function!! - the whooole thing, wuhu\n",
    "def scrapeboliga(urlinput):\n",
    "        #we need to introduce BeautifulSoup, re and requests:\n",
    "    from bs4 import BeautifulSoup\n",
    "    import requests as rq\n",
    "    urlstring=rq.get(urlinput).text\n",
    "    urlsoup=BeautifulSoup(urlstring,\"html.parser\")\n",
    "\n",
    "    #We need to get the information string for:\n",
    "    #for each element, we need specific html->find_all with BS ->list ->append to a clear list\n",
    "#FIRST PRIS\n",
    "    prishtml=urlsoup.find_all(class_=\"primary-value d-flex justify-content-end\")\n",
    "    prisstring=str(prishtml)\n",
    "    \n",
    "    #define what string we are looking for in the chunk of html\n",
    "    import re\n",
    "    priskode=re.compile(\"(\\s\\d+?.\\d+\\.\\d+)\")\n",
    "    \n",
    "    #find the string:\n",
    "    priser=priskode.findall(prisstring)\n",
    "    \n",
    "    #delete the dots\n",
    "    udotspriser=str(priser)\n",
    "    udot=udotspriser.replace(\".\",\"\")\n",
    "    \n",
    "    #make it into a list of big numbers\n",
    "    tal=re.compile(\"\\d{7,8}\")\n",
    "    pricelist=tal.findall(udot)\n",
    "    finalpricelist=[]\n",
    "    for element in pricelist:\n",
    "        talelement=int(element)\n",
    "        finalpricelist.append(talelement)\n",
    "    \n",
    "    #we need to remove the first two (in order to end with 50)\n",
    "    while len(finalpricelist)>50:\n",
    "        finalpricelist.pop(0)\n",
    "    \n",
    "#THE SAME FOR METER:\n",
    "    #find html specific code...\n",
    "    html=urlsoup.find_all(\"app-house-details\")\n",
    "    meterstykke=[]\n",
    "    for element in html:\n",
    "        meterstykke.append(element.find_all(\"span\")[1])\n",
    "    \n",
    "    #define what we are looking for:\n",
    "    meter=re.compile(\"\\d+?\\s\")\n",
    "    meterstring=str(meterstykke)\n",
    "    themeterlist=meter.findall(meterstring)\n",
    "    finalmeterlist=[]\n",
    "    for element in themeterlist:\n",
    "        talelement=int(element)\n",
    "        finalmeterlist.append(talelement)\n",
    "    \n",
    "    #We need to remove the first two (in order to end with 50)\n",
    "    while len(finalmeterlist)>50:\n",
    "        finalmeterlist.pop(0)\n",
    "\n",
    "#EJERUDGIFT\n",
    "    #we can just look in all of the html provided for the specific expression:\n",
    "    ejerudgift=re.compile(\"(Ejerudgift: )(\\d+?.\\d+)\")\n",
    "    \n",
    "    #let's look:\n",
    "    urlsoupstring=str(urlsoup)\n",
    "    ejerudgiftlist=ejerudgift.findall(urlsoupstring)\n",
    "    ejerudgiftstring=str(ejerudgiftlist)\n",
    "    \n",
    "    #let's remove the dots:\n",
    "    udendots=ejerudgiftstring.replace(\".\",\"\")\n",
    "    \n",
    "    #let's get only the numbers:\n",
    "    onlynumber=re.compile(\"\\d{2,7}\")\n",
    "    ejerudgiftclean=onlynumber.findall(udendots)\n",
    "    \n",
    "    #and transform it to numbers:\n",
    "    finalejerudgiftlist=[]\n",
    "    for element in ejerudgiftclean:\n",
    "        talelement=int(element)\n",
    "        finalejerudgiftlist.append(talelement)\n",
    "    \n",
    "    \n",
    "#ADRESS\n",
    "    #find the address-htmlchunk:\n",
    "    addresshtml=urlsoup.find_all(class_=\"w-100 mt-1 listing-address font-weight-bold text-nowrap text-truncate\")    \n",
    "    addresshtmlstring=str(addresshtml)\n",
    "    \n",
    "    #narrow down inside the htmlchunk - only addresses\n",
    "    # we need to tell it that we will play around with it with BeautifulSoup\n",
    "    adsoup=BeautifulSoup(addresshtmlstring,\"html.parser\")\n",
    "    addresstext=adsoup.get_text()\n",
    "    #so far so good - but it needs to be a list of addresses:\n",
    "    addresslist=addresstext.split(\" , \")\n",
    "    #and it needs to be max 50, not 52\n",
    "    while len(addresslist)>50:\n",
    "        addresslist.pop(0)\n",
    "    \n",
    "    #Our output would be a dictionary of the three elements for each house assigned to adress\n",
    "    #this means that the three things are going to be put together in a dict and returned as\n",
    "    if len(addresslist)==len(finalpricelist)==len(finalejerudgiftlist)==len(finalmeterlist):\n",
    "        tal=0\n",
    "        dictionary_of_houses={}\n",
    "        for element in addresslist:\n",
    "            dictionary_of_houses[element]={\"price\":finalpricelist[tal],\"size\":finalmeterlist[tal],\"ejerudgift\":finalejerudgiftlist[tal]}\n",
    "            tal+=1\n",
    "            \n",
    "        #here we want to extract the data to a csv-file called boligpris.csv\n",
    "        import csv\n",
    "        write=csv.writer(open(\"boligpris.csv\",\"a\"))\n",
    "        for key,val in dictionary_of_houses.items():\n",
    "            write.writerow([key,val])\n",
    "        #everytime it works it prints 'succes!'\n",
    "        print(\"Success!\")\n",
    "        return dictionary_of_houses\n",
    "    #and everytime it fails it shows how the inputs don't match\n",
    "    else:\n",
    "            print(\"der er et ulige antal inputs:\")\n",
    "            print(\"adresser:\",len(addresslist),\"priser:\",len(finalpricelist),\"ejerudgifter:\",len(finalejerudgiftlist),\"størrelser:\",len(finalmeterlist))"
   ]
  },
  {
   "cell_type": "code",
   "execution_count": 58,
   "metadata": {},
   "outputs": [
    {
     "name": "stdout",
     "output_type": "stream",
     "text": [
      "Success!\n"
     ]
    },
    {
     "data": {
      "text/plain": [
       "{' Dagmarsgade 28  4. 90.': {'price': 2690000, 'size': 59, 'ejerudgift': 3079},\n",
       " ' Fenrisgade 2, 3. tv.': {'price': 2699000, 'size': 62, 'ejerudgift': 2036},\n",
       " ' Tagensvej 56  5. th.': {'price': 2895000, 'size': 58, 'ejerudgift': 2709},\n",
       " ' Gormsgade 6, 1. 7.': {'price': 2895000, 'size': 83, 'ejerudgift': 2359},\n",
       " ' Allersgade 2, 1. mf.': {'price': 2895000, 'size': 70, 'ejerudgift': 3005},\n",
       " ' Prinsesse Charlottes Gade 5, 4. tv.': {'price': 2925000,\n",
       "  'size': 57,\n",
       "  'ejerudgift': 2490},\n",
       " ' Sorgenfrigade 8E, 1. 4': {'price': 2995000, 'size': 80, 'ejerudgift': 2975},\n",
       " ' Julius Bloms Gade 9, 5. 8': {'price': 2995000,\n",
       "  'size': 65,\n",
       "  'ejerudgift': 2467},\n",
       " ' Bjelkes Allé 34, 3. 41.': {'price': 2999000,\n",
       "  'size': 59,\n",
       "  'ejerudgift': 2029},\n",
       " ' Gormsgade 8, 2. 41': {'price': 3095000, 'size': 82, 'ejerudgift': 2746},\n",
       " ' Sigynsgade 46, 4. tv.': {'price': 3099000, 'size': 78, 'ejerudgift': 3525},\n",
       " ' Nørrebrogade 205, 3. tv': {'price': 3175000,\n",
       "  'size': 65,\n",
       "  'ejerudgift': 3021},\n",
       " ' Kronborggade 20, 1. tv': {'price': 3195000, 'size': 65, 'ejerudgift': 2396},\n",
       " ' Gormsgade 8, 4. 47.': {'price': 3295000, 'size': 86, 'ejerudgift': 2509},\n",
       " ' Tagensvej 55, 3. th': {'price': 3395000, 'size': 81, 'ejerudgift': 3172},\n",
       " ' Tømrergade 7 4 TH': {'price': 3450000, 'size': 61, 'ejerudgift': 2860},\n",
       " ' Allersgade 2, 3. tv.': {'price': 3450000, 'size': 79, 'ejerudgift': 3699},\n",
       " ' Blågårdsgade 16B, 1. tv': {'price': 3495000,\n",
       "  'size': 72,\n",
       "  'ejerudgift': 3613},\n",
       " ' Wesselsgade 3, 1. th.': {'price': 3499000, 'size': 59, 'ejerudgift': 1855},\n",
       " ' Heimdalsgade 37A, 1. tv.': {'price': 3645000,\n",
       "  'size': 102,\n",
       "  'ejerudgift': 3386},\n",
       " ' Baldersgade 39, st.. tv.': {'price': 3650000,\n",
       "  'size': 91,\n",
       "  'ejerudgift': 2356},\n",
       " ' Ahornsgade 1, 1. tv': {'price': 3695000, 'size': 75, 'ejerudgift': 3009},\n",
       " ' Ægirsgade 73, 3. th': {'price': 3795000, 'size': 79, 'ejerudgift': 2709},\n",
       " ' Blegdamsvej 30B, st. th., Fredens Gaard, Bolig 42': {'price': 3850000,\n",
       "  'size': 79,\n",
       "  'ejerudgift': 3542},\n",
       " ' Poppelgade 7, st. th': {'price': 3995000, 'size': 80, 'ejerudgift': 3312},\n",
       " ' Prinsesse Charlottes Gade 5, 1. tv': {'price': 3995000,\n",
       "  'size': 72,\n",
       "  'ejerudgift': 2864},\n",
       " ' Kronborggade 8, 3. tv': {'price': 3995000, 'size': 81, 'ejerudgift': 2411},\n",
       " ' Ryesgade 32, 3. th': {'price': 4075000, 'size': 78, 'ejerudgift': 3064},\n",
       " ' Blegdamsvej 30A, st., Fredens Gaard, Bolig 43': {'price': 4095000,\n",
       "  'size': 89,\n",
       "  'ejerudgift': 4004},\n",
       " ' Jagtvej 1, 1. tv.': {'price': 4195000, 'size': 104, 'ejerudgift': 3155},\n",
       " ' Jagtvej 7, 1. tv.': {'price': 4250000, 'size': 100, 'ejerudgift': 3108},\n",
       " ' Rådmandsgade 44  5.': {'price': 4250000, 'size': 105, 'ejerudgift': 4704},\n",
       " ' Ågade 112, 3. tv.': {'price': 4295000, 'size': 113, 'ejerudgift': 3340},\n",
       " ' Blegdamsvej 28B, st. tv., Fredens Gaard, Bolig 2': {'price': 4495000,\n",
       "  'size': 95,\n",
       "  'ejerudgift': 4093},\n",
       " ' Møllegade 22, st..': {'price': 4550000, 'size': 116, 'ejerudgift': 2914},\n",
       " ' Hørsholmsgade 28, 5.': {'price': 4750000, 'size': 117, 'ejerudgift': 5097},\n",
       " ' Hørsholmsgade 22G, 5. th': {'price': 5095000,\n",
       "  'size': 112,\n",
       "  'ejerudgift': 3549},\n",
       " ' Julius Bloms Gade 4, 5. tv.': {'price': 5099000,\n",
       "  'size': 121,\n",
       "  'ejerudgift': 3765},\n",
       " ' Åboulevard 14, 2. th.': {'price': 5195000, 'size': 132, 'ejerudgift': 3947},\n",
       " ' Nørrebrogade 148, 5. tv.': {'price': 5499000,\n",
       "  'size': 121,\n",
       "  'ejerudgift': 3737},\n",
       " ' Blegdamsvej 28L': {'price': 5795000, 'size': 86, 'ejerudgift': 4699},\n",
       " ' Blegdamsvej 28E, Fredens Gaard, Bolig 28': {'price': 5795000,\n",
       "  'size': 84,\n",
       "  'ejerudgift': 4664},\n",
       " ' Blegdamsvej 28K': {'price': 6095000, 'size': 94, 'ejerudgift': 5062},\n",
       " ' Blegdamsvej 28F, Fredens Gaard, Bolig 27': {'price': 6095000,\n",
       "  'size': 85,\n",
       "  'ejerudgift': 4794},\n",
       " ' Nørrebrogade 61, 1.': {'price': 6500000, 'size': 156, 'ejerudgift': 4404},\n",
       " ' Blegdamsvej 28D, Fredens Gaard, Bolig 29': {'price': 6850000,\n",
       "  'size': 106,\n",
       "  'ejerudgift': 5704},\n",
       " ' Ewaldsgade 4, st..': {'price': 6995000, 'size': 148, 'ejerudgift': 3721},\n",
       " ' Jagtvej 27  4. tv.': {'price': 7250000, 'size': 173, 'ejerudgift': 3164},\n",
       " ' Sankt Hans Torv 3, 5. 4': {'price': 7495000,\n",
       "  'size': 161,\n",
       "  'ejerudgift': 5730},\n",
       " ' Peblinge Dossering 44 4 TV ]': {'price': 7495000,\n",
       "  'size': 113,\n",
       "  'ejerudgift': 4079}}"
      ]
     },
     "execution_count": 58,
     "metadata": {},
     "output_type": "execute_result"
    }
   ],
   "source": [
    "scrapeboliga(\"https://www.boliga.dk/resultat?propertyType=3&zipCodes=2200&page=2\")"
   ]
  },
  {
   "cell_type": "code",
   "execution_count": 59,
   "metadata": {},
   "outputs": [
    {
     "ename": "NameError",
     "evalue": "name 'b' is not defined",
     "output_type": "error",
     "traceback": [
      "\u001b[0;31m---------------------------------------------------------------------------\u001b[0m",
      "\u001b[0;31mNameError\u001b[0m                                 Traceback (most recent call last)",
      "\u001b[0;32m<ipython-input-59-89e6c98d9288>\u001b[0m in \u001b[0;36m<module>\u001b[0;34m\u001b[0m\n\u001b[0;32m----> 1\u001b[0;31m \u001b[0mb\u001b[0m\u001b[0;34m\u001b[0m\u001b[0;34m\u001b[0m\u001b[0m\n\u001b[0m",
      "\u001b[0;31mNameError\u001b[0m: name 'b' is not defined"
     ]
    }
   ],
   "source": [
    "b"
   ]
  },
  {
   "cell_type": "code",
   "execution_count": null,
   "metadata": {},
   "outputs": [],
   "source": [
    "lilurl=re.sub(\"[^0-9]\",\"\",\"https://www.boliga.dk/resultat?propertyType=3&zipCodes=2200&page=2\")"
   ]
  },
  {
   "cell_type": "code",
   "execution_count": null,
   "metadata": {},
   "outputs": [],
   "source": [
    "lilurl"
   ]
  },
  {
   "cell_type": "code",
   "execution_count": null,
   "metadata": {},
   "outputs": [],
   "source": [
    "#scrapeboliga(\"https://www.boliga.dk/resultat?propertyType=3&zipCodes=2200&page=3\")"
   ]
  },
  {
   "cell_type": "code",
   "execution_count": null,
   "metadata": {},
   "outputs": [],
   "source": [
    "#making a list of long urls\n",
    "boligaurl=\"https://www.boliga.dk/resultat?area=1&page=\"\n",
    "def lotsofurls(urlinput):\n",
    "    i=0\n",
    "    urls=[]\n",
    "    areaurls=[]\n",
    "    while i<50:\n",
    "        i+=1\n",
    "        urls.append(urlinput+str(i))\n",
    "    for element in urls:\n",
    "        areaurls.append(element+\"&propertyType=3&sort=zipCode-a\")\n",
    "    return areaurls\n",
    "    "
   ]
  },
  {
   "cell_type": "code",
   "execution_count": null,
   "metadata": {},
   "outputs": [],
   "source": [
    "boligaoverload=lotsofurls(boligaurl)\n",
    "boligaoverload"
   ]
  },
  {
   "cell_type": "code",
   "execution_count": null,
   "metadata": {},
   "outputs": [],
   "source": [
    "dictionary={}\n",
    "for element in boligaoverload:\n",
    "    dictionary.update(scrapeboliga(element))"
   ]
  },
  {
   "cell_type": "code",
   "execution_count": null,
   "metadata": {},
   "outputs": [],
   "source": [
    "len(dictionary)"
   ]
  },
  {
   "cell_type": "code",
   "execution_count": null,
   "metadata": {},
   "outputs": [],
   "source": [
    "#going over all urls to get data (in total: 1500 elements into a csv-file!)\n",
    "\n",
    "#this is too much!\n",
    "#i=1\n",
    "#dictionary={}\n",
    "#keystr=\"key_\".format(i)\n",
    "#keystrr=\"key_\".format(ii)\n",
    "#for element in boligaoverload:\n",
    "#    test=scrapeboliga(element)\n",
    "#    if type(test)==dict:\n",
    "  #      if dictionary=={}:\n",
    " #           dictionary=scrapeboliga(element)\n",
    "   #     else:\n",
    "    #        dictionarydob=scrapeboliga(element)\n",
    "     #       if dictionarydob.keys()==dictionary.keys():\n",
    "      #          ii=str(i)+\"00\"\n",
    "       #         dictionarydob[keystrr]=dictionarydob.pop(keystr)\n",
    "        #        dictionary.update(dictionarydob)\n",
    "         #       i+=1\n",
    "#\n",
    " #   else:\n",
    "  #      print(\"no\")\n",
    " #  \"\" \n",
    "#    a.update(b)\n",
    "#dic2 = dict(dic0, **dic1)\n",
    "#I just wanted to have a numerical order with a lot of dictionaries called key_i..."
   ]
  },
  {
   "cell_type": "code",
   "execution_count": null,
   "metadata": {},
   "outputs": [],
   "source": [
    "import matplotlib.pyplot as plt\n",
    "values=[dictionary[i][\"size\"] for i in dictionary]\n",
    "labels=[dictionary[i][\"price\"] for i in dictionary]\n",
    "\n",
    "plt.scatter(values,labels)\n",
    "plt.xlabel(\"størrelse\")\n",
    "plt.ylabel(\"prisen\")\n",
    "plt.plot()"
   ]
  },
  {
   "cell_type": "code",
   "execution_count": null,
   "metadata": {},
   "outputs": [],
   "source": [
    "#dictionary.values()"
   ]
  },
  {
   "cell_type": "markdown",
   "metadata": {},
   "source": [
    "# For sjov koderne"
   ]
  },
  {
   "cell_type": "code",
   "execution_count": null,
   "metadata": {},
   "outputs": [],
   "source": [
    "result = {}\n",
    "for j in range(10):\n",
    "    key_j = 'key_{}'.format(j)  # a string depending on j\n",
    "    result[key_j] = str(j)+\" hello\""
   ]
  },
  {
   "cell_type": "code",
   "execution_count": null,
   "metadata": {},
   "outputs": [],
   "source": [
    "result"
   ]
  },
  {
   "cell_type": "code",
   "execution_count": null,
   "metadata": {},
   "outputs": [],
   "source": [
    "        if len(dictionary)<=50:\n",
    "            omgang=0\n",
    "            dictionary+\"1\"={}\n",
    "            omgang+=1\n",
    "            key=\n",
    "            if key in dictionary.keys()\n",
    "                \n",
    "            if tal in dictionary_of_houses.keys():\n",
    "                #adressen er kategorien:\n",
    "                #i er tallet\n",
    "                #we also want to know a bit about the output and give it a specific name\n",
    "                dictionary_of_houses[tal+\"ekstra\"]={\"address\":element,\"price\":finalpricelist[tal],\"size\":finalmeterlist[tal],\"ejerudgift\":finalejerudgiftlist[tal]}\n",
    "                tal+=1\n",
    "            dictionary.update(scrapeboliga(element))"
   ]
  },
  {
   "cell_type": "markdown",
   "metadata": {},
   "source": [
    "# For alvor koderne"
   ]
  },
  {
   "cell_type": "code",
   "execution_count": null,
   "metadata": {},
   "outputs": [],
   "source": [
    "boligaurlmega=\"https://www.boliga.dk/resultat?propertyType=3&page=\"\n",
    "def ahellalotsofurls(urlinput):\n",
    "    i=0\n",
    "    urlss=[]\n",
    "    while i<127:\n",
    "        i+=1\n",
    "        urlss.append(urlinput+str(i))\n",
    "    return urlss"
   ]
  },
  {
   "cell_type": "code",
   "execution_count": null,
   "metadata": {},
   "outputs": [],
   "source": [
    "altboliga=ahellalotsofurls(boligaurlmega)"
   ]
  },
  {
   "cell_type": "code",
   "execution_count": null,
   "metadata": {},
   "outputs": [],
   "source": [
    "type(altboliga)"
   ]
  },
  {
   "cell_type": "code",
   "execution_count": null,
   "metadata": {},
   "outputs": [],
   "source": [
    "#crazydic={}\n",
    "#fail=0\n",
    "#for element in altboliga:\n",
    " #   test=scrapeboliga(element)\n",
    "#    if type(test)==dict:\n",
    " #       crazydic.update(scrapeboliga(element))\n",
    "  #  else:\n",
    "   #     fail+=1\n",
    "    #    print(fail,\"fail!\")"
   ]
  },
  {
   "cell_type": "code",
   "execution_count": null,
   "metadata": {},
   "outputs": [],
   "source": [
    "len(crazydic)"
   ]
  },
  {
   "cell_type": "code",
   "execution_count": 60,
   "metadata": {},
   "outputs": [],
   "source": [
    "import pandas as pd\n",
    "crazyfile=open(\"boligpris 18.31.35.csv\",\"r\")"
   ]
  },
  {
   "cell_type": "code",
   "execution_count": 69,
   "metadata": {},
   "outputs": [],
   "source": [
    "pandaboliga=pd.DataFrame(crazyfile)"
   ]
  },
  {
   "cell_type": "code",
   "execution_count": 70,
   "metadata": {},
   "outputs": [
    {
     "data": {
      "text/plain": [
       "Index([], dtype='object')"
      ]
     },
     "execution_count": 70,
     "metadata": {},
     "output_type": "execute_result"
    }
   ],
   "source": [
    "pandaboliga.columns"
   ]
  },
  {
   "cell_type": "code",
   "execution_count": 65,
   "metadata": {},
   "outputs": [],
   "source": [
    "boligabiglist=list(pandaboliga)"
   ]
  },
  {
   "cell_type": "code",
   "execution_count": null,
   "metadata": {},
   "outputs": [],
   "source": []
  },
  {
   "cell_type": "code",
   "execution_count": null,
   "metadata": {},
   "outputs": [],
   "source": []
  },
  {
   "cell_type": "code",
   "execution_count": 67,
   "metadata": {},
   "outputs": [
    {
     "ename": "KeyError",
     "evalue": "'\"[ Kongens Nytorv 21, 3. tv.\",\"{\\'price\\': 15995000, \\'size\\': 280, \\'ejerudgift\\': 19794}\"\\n'",
     "output_type": "error",
     "traceback": [
      "\u001b[0;31m---------------------------------------------------------------------------\u001b[0m",
      "\u001b[0;31mKeyError\u001b[0m                                  Traceback (most recent call last)",
      "\u001b[0;32m<ipython-input-67-c1a83aabfc0f>\u001b[0m in \u001b[0;36m<module>\u001b[0;34m\u001b[0m\n\u001b[1;32m      1\u001b[0m \u001b[0;32mimport\u001b[0m \u001b[0mmatplotlib\u001b[0m\u001b[0;34m.\u001b[0m\u001b[0mpyplot\u001b[0m \u001b[0;32mas\u001b[0m \u001b[0mplt\u001b[0m\u001b[0;34m\u001b[0m\u001b[0;34m\u001b[0m\u001b[0m\n\u001b[0;32m----> 2\u001b[0;31m \u001b[0mlabels\u001b[0m\u001b[0;34m=\u001b[0m\u001b[0;34m[\u001b[0m\u001b[0mpandaboliga\u001b[0m\u001b[0;34m[\u001b[0m\u001b[0mi\u001b[0m\u001b[0;34m]\u001b[0m\u001b[0;34m[\u001b[0m\u001b[0;34m\"size\"\u001b[0m\u001b[0;34m]\u001b[0m \u001b[0;32mfor\u001b[0m \u001b[0mi\u001b[0m \u001b[0;32min\u001b[0m \u001b[0mpandaboliga\u001b[0m\u001b[0;34m]\u001b[0m\u001b[0;34m\u001b[0m\u001b[0;34m\u001b[0m\u001b[0m\n\u001b[0m\u001b[1;32m      3\u001b[0m \u001b[0mvalues\u001b[0m\u001b[0;34m=\u001b[0m\u001b[0;34m[\u001b[0m\u001b[0mpandaboliga\u001b[0m\u001b[0;34m[\u001b[0m\u001b[0mi\u001b[0m\u001b[0;34m]\u001b[0m\u001b[0;34m[\u001b[0m\u001b[0;34m\"ejerudgift\"\u001b[0m\u001b[0;34m]\u001b[0m \u001b[0;32mfor\u001b[0m \u001b[0mi\u001b[0m \u001b[0;32min\u001b[0m \u001b[0mpandaboliga\u001b[0m\u001b[0;34m]\u001b[0m\u001b[0;34m\u001b[0m\u001b[0;34m\u001b[0m\u001b[0m\n\u001b[1;32m      4\u001b[0m \u001b[0mplt\u001b[0m\u001b[0;34m.\u001b[0m\u001b[0mfigure\u001b[0m\u001b[0;34m(\u001b[0m\u001b[0mfigsize\u001b[0m\u001b[0;34m=\u001b[0m\u001b[0;34m(\u001b[0m\u001b[0;36m30\u001b[0m\u001b[0;34m,\u001b[0m\u001b[0;36m20\u001b[0m\u001b[0;34m)\u001b[0m\u001b[0;34m,\u001b[0m \u001b[0mdpi\u001b[0m\u001b[0;34m=\u001b[0m\u001b[0;36m120\u001b[0m\u001b[0;34m)\u001b[0m\u001b[0;34m\u001b[0m\u001b[0;34m\u001b[0m\u001b[0m\n\u001b[1;32m      5\u001b[0m \u001b[0mplt\u001b[0m\u001b[0;34m.\u001b[0m\u001b[0mscatter\u001b[0m\u001b[0;34m(\u001b[0m\u001b[0mlabels\u001b[0m\u001b[0;34m,\u001b[0m\u001b[0mvalues\u001b[0m\u001b[0;34m)\u001b[0m\u001b[0;34m\u001b[0m\u001b[0;34m\u001b[0m\u001b[0m\n",
      "\u001b[0;32m<ipython-input-67-c1a83aabfc0f>\u001b[0m in \u001b[0;36m<listcomp>\u001b[0;34m(.0)\u001b[0m\n\u001b[1;32m      1\u001b[0m \u001b[0;32mimport\u001b[0m \u001b[0mmatplotlib\u001b[0m\u001b[0;34m.\u001b[0m\u001b[0mpyplot\u001b[0m \u001b[0;32mas\u001b[0m \u001b[0mplt\u001b[0m\u001b[0;34m\u001b[0m\u001b[0;34m\u001b[0m\u001b[0m\n\u001b[0;32m----> 2\u001b[0;31m \u001b[0mlabels\u001b[0m\u001b[0;34m=\u001b[0m\u001b[0;34m[\u001b[0m\u001b[0mpandaboliga\u001b[0m\u001b[0;34m[\u001b[0m\u001b[0mi\u001b[0m\u001b[0;34m]\u001b[0m\u001b[0;34m[\u001b[0m\u001b[0;34m\"size\"\u001b[0m\u001b[0;34m]\u001b[0m \u001b[0;32mfor\u001b[0m \u001b[0mi\u001b[0m \u001b[0;32min\u001b[0m \u001b[0mpandaboliga\u001b[0m\u001b[0;34m]\u001b[0m\u001b[0;34m\u001b[0m\u001b[0;34m\u001b[0m\u001b[0m\n\u001b[0m\u001b[1;32m      3\u001b[0m \u001b[0mvalues\u001b[0m\u001b[0;34m=\u001b[0m\u001b[0;34m[\u001b[0m\u001b[0mpandaboliga\u001b[0m\u001b[0;34m[\u001b[0m\u001b[0mi\u001b[0m\u001b[0;34m]\u001b[0m\u001b[0;34m[\u001b[0m\u001b[0;34m\"ejerudgift\"\u001b[0m\u001b[0;34m]\u001b[0m \u001b[0;32mfor\u001b[0m \u001b[0mi\u001b[0m \u001b[0;32min\u001b[0m \u001b[0mpandaboliga\u001b[0m\u001b[0;34m]\u001b[0m\u001b[0;34m\u001b[0m\u001b[0;34m\u001b[0m\u001b[0m\n\u001b[1;32m      4\u001b[0m \u001b[0mplt\u001b[0m\u001b[0;34m.\u001b[0m\u001b[0mfigure\u001b[0m\u001b[0;34m(\u001b[0m\u001b[0mfigsize\u001b[0m\u001b[0;34m=\u001b[0m\u001b[0;34m(\u001b[0m\u001b[0;36m30\u001b[0m\u001b[0;34m,\u001b[0m\u001b[0;36m20\u001b[0m\u001b[0;34m)\u001b[0m\u001b[0;34m,\u001b[0m \u001b[0mdpi\u001b[0m\u001b[0;34m=\u001b[0m\u001b[0;36m120\u001b[0m\u001b[0;34m)\u001b[0m\u001b[0;34m\u001b[0m\u001b[0;34m\u001b[0m\u001b[0m\n\u001b[1;32m      5\u001b[0m \u001b[0mplt\u001b[0m\u001b[0;34m.\u001b[0m\u001b[0mscatter\u001b[0m\u001b[0;34m(\u001b[0m\u001b[0mlabels\u001b[0m\u001b[0;34m,\u001b[0m\u001b[0mvalues\u001b[0m\u001b[0;34m)\u001b[0m\u001b[0;34m\u001b[0m\u001b[0;34m\u001b[0m\u001b[0m\n",
      "\u001b[0;32m/opt/anaconda3/lib/python3.7/site-packages/pandas/core/series.py\u001b[0m in \u001b[0;36m__getitem__\u001b[0;34m(self, key)\u001b[0m\n\u001b[1;32m   1066\u001b[0m         \u001b[0mkey\u001b[0m \u001b[0;34m=\u001b[0m \u001b[0mcom\u001b[0m\u001b[0;34m.\u001b[0m\u001b[0mapply_if_callable\u001b[0m\u001b[0;34m(\u001b[0m\u001b[0mkey\u001b[0m\u001b[0;34m,\u001b[0m \u001b[0mself\u001b[0m\u001b[0;34m)\u001b[0m\u001b[0;34m\u001b[0m\u001b[0;34m\u001b[0m\u001b[0m\n\u001b[1;32m   1067\u001b[0m         \u001b[0;32mtry\u001b[0m\u001b[0;34m:\u001b[0m\u001b[0;34m\u001b[0m\u001b[0;34m\u001b[0m\u001b[0m\n\u001b[0;32m-> 1068\u001b[0;31m             \u001b[0mresult\u001b[0m \u001b[0;34m=\u001b[0m \u001b[0mself\u001b[0m\u001b[0;34m.\u001b[0m\u001b[0mindex\u001b[0m\u001b[0;34m.\u001b[0m\u001b[0mget_value\u001b[0m\u001b[0;34m(\u001b[0m\u001b[0mself\u001b[0m\u001b[0;34m,\u001b[0m \u001b[0mkey\u001b[0m\u001b[0;34m)\u001b[0m\u001b[0;34m\u001b[0m\u001b[0;34m\u001b[0m\u001b[0m\n\u001b[0m\u001b[1;32m   1069\u001b[0m \u001b[0;34m\u001b[0m\u001b[0m\n\u001b[1;32m   1070\u001b[0m             \u001b[0;32mif\u001b[0m \u001b[0;32mnot\u001b[0m \u001b[0mis_scalar\u001b[0m\u001b[0;34m(\u001b[0m\u001b[0mresult\u001b[0m\u001b[0;34m)\u001b[0m\u001b[0;34m:\u001b[0m\u001b[0;34m\u001b[0m\u001b[0;34m\u001b[0m\u001b[0m\n",
      "\u001b[0;32m/opt/anaconda3/lib/python3.7/site-packages/pandas/core/indexes/base.py\u001b[0m in \u001b[0;36mget_value\u001b[0;34m(self, series, key)\u001b[0m\n\u001b[1;32m   4728\u001b[0m         \u001b[0mk\u001b[0m \u001b[0;34m=\u001b[0m \u001b[0mself\u001b[0m\u001b[0;34m.\u001b[0m\u001b[0m_convert_scalar_indexer\u001b[0m\u001b[0;34m(\u001b[0m\u001b[0mk\u001b[0m\u001b[0;34m,\u001b[0m \u001b[0mkind\u001b[0m\u001b[0;34m=\u001b[0m\u001b[0;34m\"getitem\"\u001b[0m\u001b[0;34m)\u001b[0m\u001b[0;34m\u001b[0m\u001b[0;34m\u001b[0m\u001b[0m\n\u001b[1;32m   4729\u001b[0m         \u001b[0;32mtry\u001b[0m\u001b[0;34m:\u001b[0m\u001b[0;34m\u001b[0m\u001b[0;34m\u001b[0m\u001b[0m\n\u001b[0;32m-> 4730\u001b[0;31m             \u001b[0;32mreturn\u001b[0m \u001b[0mself\u001b[0m\u001b[0;34m.\u001b[0m\u001b[0m_engine\u001b[0m\u001b[0;34m.\u001b[0m\u001b[0mget_value\u001b[0m\u001b[0;34m(\u001b[0m\u001b[0ms\u001b[0m\u001b[0;34m,\u001b[0m \u001b[0mk\u001b[0m\u001b[0;34m,\u001b[0m \u001b[0mtz\u001b[0m\u001b[0;34m=\u001b[0m\u001b[0mgetattr\u001b[0m\u001b[0;34m(\u001b[0m\u001b[0mseries\u001b[0m\u001b[0;34m.\u001b[0m\u001b[0mdtype\u001b[0m\u001b[0;34m,\u001b[0m \u001b[0;34m\"tz\"\u001b[0m\u001b[0;34m,\u001b[0m \u001b[0;32mNone\u001b[0m\u001b[0;34m)\u001b[0m\u001b[0;34m)\u001b[0m\u001b[0;34m\u001b[0m\u001b[0;34m\u001b[0m\u001b[0m\n\u001b[0m\u001b[1;32m   4731\u001b[0m         \u001b[0;32mexcept\u001b[0m \u001b[0mKeyError\u001b[0m \u001b[0;32mas\u001b[0m \u001b[0me1\u001b[0m\u001b[0;34m:\u001b[0m\u001b[0;34m\u001b[0m\u001b[0;34m\u001b[0m\u001b[0m\n\u001b[1;32m   4732\u001b[0m             \u001b[0;32mif\u001b[0m \u001b[0mlen\u001b[0m\u001b[0;34m(\u001b[0m\u001b[0mself\u001b[0m\u001b[0;34m)\u001b[0m \u001b[0;34m>\u001b[0m \u001b[0;36m0\u001b[0m \u001b[0;32mand\u001b[0m \u001b[0;34m(\u001b[0m\u001b[0mself\u001b[0m\u001b[0;34m.\u001b[0m\u001b[0mholds_integer\u001b[0m\u001b[0;34m(\u001b[0m\u001b[0;34m)\u001b[0m \u001b[0;32mor\u001b[0m \u001b[0mself\u001b[0m\u001b[0;34m.\u001b[0m\u001b[0mis_boolean\u001b[0m\u001b[0;34m(\u001b[0m\u001b[0;34m)\u001b[0m\u001b[0;34m)\u001b[0m\u001b[0;34m:\u001b[0m\u001b[0;34m\u001b[0m\u001b[0;34m\u001b[0m\u001b[0m\n",
      "\u001b[0;32mpandas/_libs/index.pyx\u001b[0m in \u001b[0;36mpandas._libs.index.IndexEngine.get_value\u001b[0;34m()\u001b[0m\n",
      "\u001b[0;32mpandas/_libs/index.pyx\u001b[0m in \u001b[0;36mpandas._libs.index.IndexEngine.get_value\u001b[0;34m()\u001b[0m\n",
      "\u001b[0;32mpandas/_libs/index.pyx\u001b[0m in \u001b[0;36mpandas._libs.index.IndexEngine.get_loc\u001b[0;34m()\u001b[0m\n",
      "\u001b[0;32mpandas/_libs/index_class_helper.pxi\u001b[0m in \u001b[0;36mpandas._libs.index.Int64Engine._check_type\u001b[0;34m()\u001b[0m\n",
      "\u001b[0;31mKeyError\u001b[0m: '\"[ Kongens Nytorv 21, 3. tv.\",\"{\\'price\\': 15995000, \\'size\\': 280, \\'ejerudgift\\': 19794}\"\\n'"
     ]
    }
   ],
   "source": [
    "import matplotlib.pyplot as plt\n",
    "labels=[pandaboliga[i][\"size\"] for i in pandaboliga]\n",
    "values=[pandaboliga[i][\"ejerudgift\"] for i in pandaboliga]\n",
    "plt.figure(figsize=(30,20), dpi=120)\n",
    "plt.scatter(labels,values)\n",
    "plt.xlabel(\"størrelse\")\n",
    "plt.ylabel(\"pris\")\n",
    "plt.plot()"
   ]
  },
  {
   "cell_type": "code",
   "execution_count": null,
   "metadata": {},
   "outputs": [],
   "source": []
  },
  {
   "cell_type": "code",
   "execution_count": null,
   "metadata": {},
   "outputs": [],
   "source": []
  }
 ],
 "metadata": {
  "display_name": "Python 3",
  "kernelspec": {
   "display_name": "Python 3",
   "language": "python",
   "name": "python3"
  },
  "language_info": {
   "codemirror_mode": {
    "name": "ipython",
    "version": 3
   },
   "file_extension": ".py",
   "mimetype": "text/x-python",
   "name": "python",
   "nbconvert_exporter": "python",
   "pygments_lexer": "ipython3",
   "version": "3.7.4"
  },
  "toc": {
   "base_numbering": 1,
   "nav_menu": {},
   "number_sections": false,
   "sideBar": true,
   "skip_h1_title": false,
   "title_cell": "Table of Contents",
   "title_sidebar": "Contents",
   "toc_cell": false,
   "toc_position": {},
   "toc_section_display": true,
   "toc_window_display": true
  },
  "varInspector": {
   "cols": {
    "lenName": 16,
    "lenType": 16,
    "lenVar": 40
   },
   "kernels_config": {
    "python": {
     "delete_cmd_postfix": "",
     "delete_cmd_prefix": "del ",
     "library": "var_list.py",
     "varRefreshCmd": "print(var_dic_list())"
    },
    "r": {
     "delete_cmd_postfix": ") ",
     "delete_cmd_prefix": "rm(",
     "library": "var_list.r",
     "varRefreshCmd": "cat(var_dic_list()) "
    }
   },
   "types_to_exclude": [
    "module",
    "function",
    "builtin_function_or_method",
    "instance",
    "_Feature"
   ],
   "window_display": false
  }
 },
 "nbformat": 4,
 "nbformat_minor": 1
}
